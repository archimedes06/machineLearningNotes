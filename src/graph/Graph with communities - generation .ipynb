{
 "metadata": {
  "name": "",
  "signature": "sha256:b8b974d5c2fc7de6a55bc44063b838f015c1fb9231f353bed17769854c184d2d"
 },
 "nbformat": 3,
 "nbformat_minor": 0,
 "worksheets": [
  {
   "cells": [
    {
     "cell_type": "code",
     "collapsed": false,
     "input": [
      "#Some Imports\n",
      "import igraph as ig;\n",
      "import matplotlib.pyplot as plt\n",
      "import numpy as np;\n",
      "import pandas as pd;\n",
      "from pylab import *\n",
      "#keeps the plots in the notebook\n",
      "%matplotlib inline"
     ],
     "language": "python",
     "metadata": {},
     "outputs": [],
     "prompt_number": 3
    },
    {
     "cell_type": "markdown",
     "metadata": {},
     "source": [
      "<font size=5><B><i>Example: Generating igraph from Numpy array adjacency matrix</B></i></font>"
     ]
    },
    {
     "cell_type": "code",
     "collapsed": false,
     "input": [
      "\n",
      "node_names = ['A', 'B', 'C']\n",
      "a = pd.DataFrame([[1,2,3],[3,1,1],[4,0,2]], index=node_names, columns=node_names)\n",
      "A = a.values"
     ],
     "language": "python",
     "metadata": {},
     "outputs": [],
     "prompt_number": 4
    },
    {
     "cell_type": "code",
     "collapsed": false,
     "input": [
      "graph = ig.Graph.Adjacency((a.values > 0).tolist())\n",
      "graph.es['weight'] = A[A.nonzero()]\n",
      "graph.vs['label'] = node_names\n",
      "\n",
      "layout = graph.layout(\"kamada_kawai\")\n",
      "print(layout)\n",
      "ig.plot(graph, layout = layout)\n"
     ],
     "language": "python",
     "metadata": {},
     "outputs": [
      {
       "output_type": "stream",
       "stream": "stdout",
       "text": [
        "<Layout with 3 vertices and 2 dimensions>\n"
       ]
      },
      {
       "metadata": {},
       "output_type": "pyout",
       "prompt_number": 5,
       "svg": [
        "<?xml version=\"1.0\" encoding=\"UTF-8\"?>\n",
        "<svg xmlns=\"http://www.w3.org/2000/svg\" xmlns:xlink=\"http://www.w3.org/1999/xlink\" width=\"600pt\" height=\"600pt\" viewBox=\"0 0 600 600\" version=\"1.1\">\n",
        "<defs>\n",
        "<g>\n",
        "<symbol overflow=\"visible\" id=\"glyph0-0\">\n",
        "<path style=\"stroke:none;\" d=\"M 0.703125 2.46875 L 0.703125 -9.875 L 7.703125 -9.875 L 7.703125 2.46875 Z M 1.484375 1.703125 L 6.921875 1.703125 L 6.921875 -9.078125 L 1.484375 -9.078125 Z \"/>\n",
        "</symbol>\n",
        "<symbol overflow=\"visible\" id=\"glyph0-1\">\n",
        "<path style=\"stroke:none;\" d=\"M 4.78125 -8.84375 L 2.90625 -3.765625 L 6.671875 -3.765625 Z M 4 -10.203125 L 5.578125 -10.203125 L 9.46875 0 L 8.03125 0 L 7.09375 -2.625 L 2.5 -2.625 L 1.5625 0 L 0.109375 0 Z \"/>\n",
        "</symbol>\n",
        "<symbol overflow=\"visible\" id=\"glyph0-2\">\n",
        "<path style=\"stroke:none;\" d=\"M 2.75 -4.875 L 2.75 -1.140625 L 4.96875 -1.140625 C 5.707031 -1.140625 6.253906 -1.289062 6.609375 -1.59375 C 6.972656 -1.90625 7.15625 -2.378906 7.15625 -3.015625 C 7.15625 -3.648438 6.972656 -4.117188 6.609375 -4.421875 C 6.253906 -4.722656 5.707031 -4.875 4.96875 -4.875 Z M 2.75 -9.078125 L 2.75 -6 L 4.796875 -6 C 5.472656 -6 5.972656 -6.125 6.296875 -6.375 C 6.628906 -6.625 6.796875 -7.007812 6.796875 -7.53125 C 6.796875 -8.050781 6.628906 -8.4375 6.296875 -8.6875 C 5.972656 -8.945312 5.472656 -9.078125 4.796875 -9.078125 Z M 1.375 -10.203125 L 4.90625 -10.203125 C 5.957031 -10.203125 6.765625 -9.984375 7.328125 -9.546875 C 7.898438 -9.109375 8.1875 -8.488281 8.1875 -7.6875 C 8.1875 -7.0625 8.039062 -6.5625 7.75 -6.1875 C 7.457031 -5.820312 7.03125 -5.59375 6.46875 -5.5 C 7.144531 -5.351562 7.671875 -5.046875 8.046875 -4.578125 C 8.421875 -4.117188 8.609375 -3.546875 8.609375 -2.859375 C 8.609375 -1.941406 8.296875 -1.234375 7.671875 -0.734375 C 7.054688 -0.242188 6.175781 0 5.03125 0 L 1.375 0 Z \"/>\n",
        "</symbol>\n",
        "<symbol overflow=\"visible\" id=\"glyph0-3\">\n",
        "<path style=\"stroke:none;\" d=\"M 9.015625 -9.421875 L 9.015625 -7.96875 C 8.546875 -8.394531 8.046875 -8.710938 7.515625 -8.921875 C 6.992188 -9.140625 6.441406 -9.25 5.859375 -9.25 C 4.691406 -9.25 3.796875 -8.890625 3.171875 -8.171875 C 2.554688 -7.460938 2.25 -6.4375 2.25 -5.09375 C 2.25 -3.75 2.554688 -2.71875 3.171875 -2 C 3.796875 -1.289062 4.691406 -0.9375 5.859375 -0.9375 C 6.441406 -0.9375 6.992188 -1.039062 7.515625 -1.25 C 8.046875 -1.46875 8.546875 -1.796875 9.015625 -2.234375 L 9.015625 -0.78125 C 8.535156 -0.457031 8.023438 -0.210938 7.484375 -0.046875 C 6.941406 0.117188 6.367188 0.203125 5.765625 0.203125 C 4.222656 0.203125 3.003906 -0.269531 2.109375 -1.21875 C 1.222656 -2.164062 0.78125 -3.457031 0.78125 -5.09375 C 0.78125 -6.726562 1.222656 -8.019531 2.109375 -8.96875 C 3.003906 -9.914062 4.222656 -10.390625 5.765625 -10.390625 C 6.378906 -10.390625 6.957031 -10.304688 7.5 -10.140625 C 8.039062 -9.984375 8.546875 -9.742188 9.015625 -9.421875 Z \"/>\n",
        "</symbol>\n",
        "</g>\n",
        "</defs>\n",
        "<g id=\"surface2\">\n",
        "<rect x=\"0\" y=\"0\" width=\"600\" height=\"600\" style=\"fill:rgb(100%,100%,100%);fill-opacity:1;stroke:none;\"/>\n",
        "<path style=\"fill:none;stroke-width:1;stroke-linecap:butt;stroke-linejoin:miter;stroke:rgb(26.666667%,26.666667%,26.666667%);stroke-opacity:1;stroke-miterlimit:10;\" d=\"M 605.605469 181.828125 C 605.605469 190.113281 598.890625 196.828125 590.605469 196.828125 C 582.324219 196.828125 575.605469 190.113281 575.605469 181.828125 C 575.605469 173.542969 582.324219 166.828125 590.605469 166.828125 C 598.890625 166.828125 605.605469 173.542969 605.605469 181.828125 \"/>\n",
        "<path style=\"fill:none;stroke-width:1;stroke-linecap:butt;stroke-linejoin:miter;stroke:rgb(26.666667%,26.666667%,26.666667%);stroke-opacity:1;stroke-miterlimit:10;\" d=\"M 580 192.4375 C 446.128906 -1.988281 265.644531 -66.371094 42.992188 11.914062 \"/>\n",
        "<path style=\" stroke:none;fill-rule:nonzero;fill:rgb(26.666667%,26.666667%,26.666667%);fill-opacity:1;\" d=\"M 29.535156 16.648438 L 41.453125 7.542969 L 44.53125 16.289062 L 29.535156 16.648438 \"/>\n",
        "<path style=\"fill:none;stroke-width:1;stroke-linecap:butt;stroke-linejoin:miter;stroke:rgb(26.666667%,26.666667%,26.666667%);stroke-opacity:1;stroke-miterlimit:10;\" d=\"M 580 192.4375 C 349.195312 208.734375 204.929688 329.089844 160.328125 556.085938 \"/>\n",
        "<path style=\" stroke:none;fill-rule:nonzero;fill:rgb(26.666667%,26.666667%,26.666667%);fill-opacity:1;\" d=\"M 157.578125 570.085938 L 155.78125 555.191406 L 164.875 556.980469 L 157.578125 570.085938 \"/>\n",
        "<path style=\"fill:none;stroke-width:1;stroke-linecap:butt;stroke-linejoin:miter;stroke:rgb(26.666667%,26.666667%,26.666667%);stroke-opacity:1;stroke-miterlimit:10;\" d=\"M 20 20 C 153.871094 214.425781 334.355469 278.804688 557.007812 200.519531 \"/>\n",
        "<path style=\" stroke:none;fill-rule:nonzero;fill:rgb(26.666667%,26.666667%,26.666667%);fill-opacity:1;\" d=\"M 570.464844 195.789062 L 558.546875 204.894531 L 555.46875 196.148438 L 570.464844 195.789062 \"/>\n",
        "<path style=\"fill:none;stroke-width:1;stroke-linecap:butt;stroke-linejoin:miter;stroke:rgb(26.666667%,26.666667%,26.666667%);stroke-opacity:1;stroke-miterlimit:10;\" d=\"M 45.605469 9.394531 C 45.605469 17.675781 38.890625 24.394531 30.605469 24.394531 C 22.324219 24.394531 15.605469 17.675781 15.605469 9.394531 C 15.605469 1.109375 22.324219 -5.605469 30.605469 -5.605469 C 38.890625 -5.605469 45.605469 1.109375 45.605469 9.394531 \"/>\n",
        "<path style=\"fill:none;stroke-width:1;stroke-linecap:butt;stroke-linejoin:miter;stroke:rgb(26.666667%,26.666667%,26.666667%);stroke-opacity:1;stroke-miterlimit:10;\" d=\"M 20 20 L 149.917969 556.414062 \"/>\n",
        "<path style=\" stroke:none;fill-rule:nonzero;fill:rgb(26.666667%,26.666667%,26.666667%);fill-opacity:1;\" d=\"M 153.273438 570.28125 L 145.410156 557.507812 L 154.421875 555.324219 L 153.273438 570.28125 \"/>\n",
        "<path style=\"fill:none;stroke-width:1;stroke-linecap:butt;stroke-linejoin:miter;stroke:rgb(26.666667%,26.666667%,26.666667%);stroke-opacity:1;stroke-miterlimit:10;\" d=\"M 155.628906 580 C 386.433594 563.699219 530.699219 443.34375 575.300781 216.347656 \"/>\n",
        "<path style=\" stroke:none;fill-rule:nonzero;fill:rgb(26.666667%,26.666667%,26.666667%);fill-opacity:1;\" d=\"M 578.050781 202.351562 L 579.847656 217.242188 L 570.753906 215.457031 L 578.050781 202.351562 \"/>\n",
        "<path style=\"fill:none;stroke-width:1;stroke-linecap:butt;stroke-linejoin:miter;stroke:rgb(26.666667%,26.666667%,26.666667%);stroke-opacity:1;stroke-miterlimit:10;\" d=\"M 181.234375 569.394531 C 181.234375 577.675781 174.519531 584.394531 166.234375 584.394531 C 157.953125 584.394531 151.234375 577.675781 151.234375 569.394531 C 151.234375 561.109375 157.953125 554.394531 166.234375 554.394531 C 174.519531 554.394531 181.234375 561.109375 181.234375 569.394531 \"/>\n",
        "<path style=\"fill-rule:nonzero;fill:rgb(100%,0%,0%);fill-opacity:1;stroke-width:1;stroke-linecap:butt;stroke-linejoin:miter;stroke:rgb(0%,0%,0%);stroke-opacity:1;stroke-miterlimit:10;\" d=\"M 590 192.4375 C 590 197.957031 585.523438 202.4375 580 202.4375 C 574.476562 202.4375 570 197.957031 570 192.4375 C 570 186.914062 574.476562 182.4375 580 182.4375 C 585.523438 182.4375 590 186.914062 590 192.4375 \"/>\n",
        "<path style=\"fill-rule:nonzero;fill:rgb(100%,0%,0%);fill-opacity:1;stroke-width:1;stroke-linecap:butt;stroke-linejoin:miter;stroke:rgb(0%,0%,0%);stroke-opacity:1;stroke-miterlimit:10;\" d=\"M 30 20 C 30 25.523438 25.523438 30 20 30 C 14.476562 30 10 25.523438 10 20 C 10 14.476562 14.476562 10 20 10 C 25.523438 10 30 14.476562 30 20 \"/>\n",
        "<path style=\"fill-rule:nonzero;fill:rgb(100%,0%,0%);fill-opacity:1;stroke-width:1;stroke-linecap:butt;stroke-linejoin:miter;stroke:rgb(0%,0%,0%);stroke-opacity:1;stroke-miterlimit:10;\" d=\"M 165.628906 580 C 165.628906 585.523438 161.152344 590 155.628906 590 C 150.105469 590 145.628906 585.523438 145.628906 580 C 145.628906 574.476562 150.105469 570 155.628906 570 C 161.152344 570 165.628906 574.476562 165.628906 580 \"/>\n",
        "<g style=\"fill:rgb(0%,0%,0%);fill-opacity:1;\">\n",
        "  <use xlink:href=\"#glyph0-1\" x=\"575.210938\" y=\"199.1875\"/>\n",
        "</g>\n",
        "<g style=\"fill:rgb(0%,0%,0%);fill-opacity:1;\">\n",
        "  <use xlink:href=\"#glyph0-2\" x=\"15.007812\" y=\"26.753906\"/>\n",
        "</g>\n",
        "<g style=\"fill:rgb(0%,0%,0%);fill-opacity:1;\">\n",
        "  <use xlink:href=\"#glyph0-3\" x=\"150.730469\" y=\"586.847656\"/>\n",
        "</g>\n",
        "</g>\n",
        "</svg>\n"
       ],
       "text": [
        "<igraph.drawing.Plot at 0x7f03b634ed50>"
       ]
      }
     ],
     "prompt_number": 5
    },
    {
     "cell_type": "markdown",
     "metadata": {},
     "source": [
      "<font size=5> Generating Community Graph<font> \n",
      "<font size=3> Strategy is to first layout an membership matrix,then use a random number generator to create an adjacency matrix, finally turn the adjacency matrix into a graph<font> "
     ]
    },
    {
     "cell_type": "code",
     "collapsed": false,
     "input": [
      "membershipMatrix = np.array([\n",
      "[1,0,0],    #user1\n",
      "[1,0,0],    #user2\n",
      "#[1,0,0],    #user3\n",
      "#[1,0,0],    #user4\n",
      "#[1,0,0],    #user5\n",
      "[0,1,0],    #user6\n",
      "[0,1,0],    #user7\n",
      "#[0,1,0],    #user8\n",
      "#[0,1,0],    #user9\n",
      "#[0,1,0],    #user10\n",
      "[0,0,1],    #user11\n",
      "[0,0,1],    #user12\n",
      "#[0,0,1],    #user13\n",
      "#[0,0,1],    #user14\n",
      "#[0,0,1],    #user15\n",
      "])"
     ],
     "language": "python",
     "metadata": {},
     "outputs": [],
     "prompt_number": 6
    },
    {
     "cell_type": "code",
     "collapsed": false,
     "input": [
      "node_names= ['a','b','c','d','e','f']\n",
      "trivialAdj = np.inner(membershipMatrix, membershipMatrix)\n",
      "df = pd.DataFrame(trivialAdj, index=node_names)\n",
      "trivialAdj = df.values\n",
      "\n",
      "tightCommunities = ig.Graph.Adjacency((trivialAdj > 0).tolist())\n",
      "tightCommunities.es['weight'] = trivialAdj[trivialAdj.nonzero()]\n",
      "tightCommunities.vs['label'] = node_names\n",
      "\n",
      "print(trivialAdj)\n",
      "print(tightCommunities)\n",
      "tightLayout = tightCommunities.layout(\"kamada_kawai\")\n",
      "ig.plot(tightCommunities, layout = layout)"
     ],
     "language": "python",
     "metadata": {},
     "outputs": [
      {
       "output_type": "stream",
       "stream": "stdout",
       "text": [
        "[[1 1 0 0 0 0]\n",
        " [1 1 0 0 0 0]\n",
        " [0 0 1 1 0 0]\n",
        " [0 0 1 1 0 0]\n",
        " [0 0 0 0 1 1]\n",
        " [0 0 0 0 1 1]]\n",
        "IGRAPH D-W- 6 12 --\n",
        "+ attr: label (v), weight (e)\n",
        "+ edges:\n",
        "0->0 0->1 1->0 1->1 2->2 2->3 3->2 3->3 4->4 4->5 5->4 5->5\n"
       ]
      },
      {
       "output_type": "stream",
       "stream": "stderr",
       "text": [
        "/usr/local/lib/anaconda/lib/python2.7/site-packages/IPython/core/formatters.py:239: FormatterWarning: Exception in image/svg+xml formatter: list index out of range\n",
        "  FormatterWarning,\n",
        "/usr/local/lib/anaconda/lib/python2.7/site-packages/IPython/core/formatters.py:239: FormatterWarning: Exception in image/png formatter: I/O operation on closed file.\n",
        "  FormatterWarning,\n"
       ]
      },
      {
       "metadata": {},
       "output_type": "pyout",
       "prompt_number": 7,
       "text": [
        "<igraph.drawing.Plot at 0x7f03b5f7c950>"
       ]
      }
     ],
     "prompt_number": 7
    },
    {
     "cell_type": "code",
     "collapsed": false,
     "input": [],
     "language": "python",
     "metadata": {},
     "outputs": [],
     "prompt_number": 0
    },
    {
     "cell_type": "code",
     "collapsed": false,
     "input": [],
     "language": "python",
     "metadata": {},
     "outputs": []
    }
   ],
   "metadata": {}
  }
 ]
}