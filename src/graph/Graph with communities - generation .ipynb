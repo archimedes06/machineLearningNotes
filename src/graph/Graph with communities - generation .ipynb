{
 "cells": [
  {
   "cell_type": "code",
   "execution_count": 1,
   "metadata": {
    "collapsed": false
   },
   "outputs": [],
   "source": [
    "#Some Imports\n",
    "import igraph as ig;\n",
    "import matplotlib.pyplot as plt\n",
    "import numpy as np;\n",
    "import pandas as pd;\n",
    "from pylab import *\n",
    "#keeps the plots in the notebook\n",
    "%matplotlib inline\n",
    "#random number generator\n",
    "import random;\n",
    "random.seed(100);  #setting the random seed"
   ]
  },
  {
   "cell_type": "markdown",
   "metadata": {},
   "source": [
    "<font size=5><B><i>Example: Generating igraph from Numpy array adjacency matrix</B></i></font>"
   ]
  },
  {
   "cell_type": "code",
   "execution_count": 2,
   "metadata": {
    "collapsed": true
   },
   "outputs": [],
   "source": [
    "\n",
    "node_names = ['A', 'B', 'C']\n",
    "a = pd.DataFrame([[1,2,3],[3,1,1],[4,0,2]], index=node_names, columns=node_names)\n",
    "A = a.values"
   ]
  },
  {
   "cell_type": "code",
   "execution_count": 3,
   "metadata": {
    "collapsed": false
   },
   "outputs": [
    {
     "ename": "AttributeError",
     "evalue": "'module' object has no attribute 'Graph'",
     "output_type": "error",
     "traceback": [
      "\u001b[1;31m---------------------------------------------------------------------------\u001b[0m",
      "\u001b[1;31mAttributeError\u001b[0m                            Traceback (most recent call last)",
      "\u001b[1;32m<ipython-input-3-6ac2f10160f5>\u001b[0m in \u001b[0;36m<module>\u001b[1;34m()\u001b[0m\n\u001b[1;32m----> 1\u001b[1;33m \u001b[0mgraph\u001b[0m \u001b[1;33m=\u001b[0m \u001b[0mig\u001b[0m\u001b[1;33m.\u001b[0m\u001b[0mGraph\u001b[0m\u001b[1;33m.\u001b[0m\u001b[0mAdjacency\u001b[0m\u001b[1;33m(\u001b[0m\u001b[1;33m(\u001b[0m\u001b[0ma\u001b[0m\u001b[1;33m.\u001b[0m\u001b[0mvalues\u001b[0m \u001b[1;33m>\u001b[0m \u001b[1;36m0\u001b[0m\u001b[1;33m)\u001b[0m\u001b[1;33m.\u001b[0m\u001b[0mtolist\u001b[0m\u001b[1;33m(\u001b[0m\u001b[1;33m)\u001b[0m\u001b[1;33m)\u001b[0m\u001b[1;33m\u001b[0m\u001b[0m\n\u001b[0m\u001b[0;32m      2\u001b[0m \u001b[0mgraph\u001b[0m\u001b[1;33m.\u001b[0m\u001b[0mes\u001b[0m\u001b[1;33m[\u001b[0m\u001b[1;34m'weight'\u001b[0m\u001b[1;33m]\u001b[0m \u001b[1;33m=\u001b[0m \u001b[0mA\u001b[0m\u001b[1;33m[\u001b[0m\u001b[0mA\u001b[0m\u001b[1;33m.\u001b[0m\u001b[0mnonzero\u001b[0m\u001b[1;33m(\u001b[0m\u001b[1;33m)\u001b[0m\u001b[1;33m]\u001b[0m\u001b[1;33m\u001b[0m\u001b[0m\n\u001b[0;32m      3\u001b[0m \u001b[0mgraph\u001b[0m\u001b[1;33m.\u001b[0m\u001b[0mvs\u001b[0m\u001b[1;33m[\u001b[0m\u001b[1;34m'label'\u001b[0m\u001b[1;33m]\u001b[0m \u001b[1;33m=\u001b[0m \u001b[0mnode_names\u001b[0m\u001b[1;33m\u001b[0m\u001b[0m\n\u001b[0;32m      4\u001b[0m \u001b[1;33m\u001b[0m\u001b[0m\n\u001b[0;32m      5\u001b[0m \u001b[0mlayout\u001b[0m \u001b[1;33m=\u001b[0m \u001b[0mgraph\u001b[0m\u001b[1;33m.\u001b[0m\u001b[0mlayout\u001b[0m\u001b[1;33m(\u001b[0m\u001b[1;34m\"kamada_kawai\"\u001b[0m\u001b[1;33m)\u001b[0m\u001b[1;33m\u001b[0m\u001b[0m\n",
      "\u001b[1;31mAttributeError\u001b[0m: 'module' object has no attribute 'Graph'"
     ]
    }
   ],
   "source": [
    "graph = ig.Graph.Adjacency((a.values > 0).tolist())\n",
    "graph.es['weight'] = A[A.nonzero()]\n",
    "graph.vs['label'] = node_names\n",
    "\n",
    "layout = graph.layout(\"kamada_kawai\")\n",
    "print(layout)\n",
    "ig.plot(graph, layout = layout, bbox = (300,300), margin=20)\n"
   ]
  },
  {
   "cell_type": "markdown",
   "metadata": {},
   "source": [
    "<font size=8> Generating Community Graph</font> \n",
    "<font size=3><p> Strategy is to first layout an membership matrix,then use a random number generator to create an adjacency matrix, finally turn the adjacency matrix into a graph</p></font> "
   ]
  },
  {
   "cell_type": "markdown",
   "metadata": {},
   "source": [
    "<font size=6> Trivial Communities </font>"
   ]
  },
  {
   "cell_type": "code",
   "execution_count": 4,
   "metadata": {
    "collapsed": true
   },
   "outputs": [],
   "source": [
    "membershipMatrix = np.array([\n",
    "[1,0,0],    #user1\n",
    "[1,0,0],    #user2\n",
    "[1,0,0],    #user3\n",
    "[1,0,0],    #user4\n",
    "#[1,0,0],    #user5\n",
    "[0,1,0],    #user6\n",
    "[0,1,0],    #user7\n",
    "[0,1,0],    #user8\n",
    "[0,1,0],    #user9\n",
    "#[0,1,0],    #user10\n",
    "[0,0,1],    #user11\n",
    "[0,0,1],    #user12\n",
    "[0,0,1],    #user13\n",
    "[0,0,1]     #user14\n",
    "#[0,0,1],    #user15\n",
    "])"
   ]
  },
  {
   "cell_type": "code",
   "execution_count": 5,
   "metadata": {
    "collapsed": false
   },
   "outputs": [
    {
     "ename": "AttributeError",
     "evalue": "'module' object has no attribute 'Graph'",
     "output_type": "error",
     "traceback": [
      "\u001b[1;31m---------------------------------------------------------------------------\u001b[0m",
      "\u001b[1;31mAttributeError\u001b[0m                            Traceback (most recent call last)",
      "\u001b[1;32m<ipython-input-5-be3f30624cc6>\u001b[0m in \u001b[0;36m<module>\u001b[1;34m()\u001b[0m\n\u001b[0;32m      8\u001b[0m \u001b[0mtrivialAdj\u001b[0m \u001b[1;33m=\u001b[0m \u001b[0mdf\u001b[0m\u001b[1;33m.\u001b[0m\u001b[0mvalues\u001b[0m\u001b[1;33m\u001b[0m\u001b[0m\n\u001b[0;32m      9\u001b[0m \u001b[1;33m\u001b[0m\u001b[0m\n\u001b[1;32m---> 10\u001b[1;33m \u001b[0mtightCommunities\u001b[0m \u001b[1;33m=\u001b[0m \u001b[0mig\u001b[0m\u001b[1;33m.\u001b[0m\u001b[0mGraph\u001b[0m\u001b[1;33m.\u001b[0m\u001b[0mAdjacency\u001b[0m\u001b[1;33m(\u001b[0m\u001b[1;33m(\u001b[0m\u001b[0mtrivialAdj\u001b[0m \u001b[1;33m>\u001b[0m \u001b[1;36m0\u001b[0m\u001b[1;33m)\u001b[0m\u001b[1;33m.\u001b[0m\u001b[0mtolist\u001b[0m\u001b[1;33m(\u001b[0m\u001b[1;33m)\u001b[0m\u001b[1;33m)\u001b[0m\u001b[1;33m\u001b[0m\u001b[0m\n\u001b[0m\u001b[0;32m     11\u001b[0m \u001b[0mtightCommunities\u001b[0m\u001b[1;33m.\u001b[0m\u001b[0mes\u001b[0m\u001b[1;33m[\u001b[0m\u001b[1;34m'weight'\u001b[0m\u001b[1;33m]\u001b[0m \u001b[1;33m=\u001b[0m \u001b[0mtrivialAdj\u001b[0m\u001b[1;33m[\u001b[0m\u001b[0mtrivialAdj\u001b[0m\u001b[1;33m.\u001b[0m\u001b[0mnonzero\u001b[0m\u001b[1;33m(\u001b[0m\u001b[1;33m)\u001b[0m\u001b[1;33m]\u001b[0m\u001b[1;33m\u001b[0m\u001b[0m\n\u001b[0;32m     12\u001b[0m \u001b[0mtightCommunities\u001b[0m\u001b[1;33m.\u001b[0m\u001b[0mvs\u001b[0m\u001b[1;33m[\u001b[0m\u001b[1;34m'label'\u001b[0m\u001b[1;33m]\u001b[0m \u001b[1;33m=\u001b[0m \u001b[0mnode_names\u001b[0m\u001b[1;33m\u001b[0m\u001b[0m\n",
      "\u001b[1;31mAttributeError\u001b[0m: 'module' object has no attribute 'Graph'"
     ]
    }
   ],
   "source": [
    "node_names= ['a','b','c','d','e','f', 'g', 'h', 'i', 'j', 'k', 'l']\n",
    "#constructing the adjacency matrix... here, we assume that any connection that could exist P(i,j) != 0, does exist\n",
    "trivialAdj = np.inner(membershipMatrix, membershipMatrix)\n",
    "\n",
    "#we don't want self connections... so lets set the diagonal terms to zero\n",
    "np.fill_diagonal(trivialAdj,0)\n",
    "df = pd.DataFrame(trivialAdj, index=node_names, columns=node_names)\n",
    "trivialAdj = df.values\n",
    "\n",
    "tightCommunities = ig.Graph.Adjacency((trivialAdj > 0).tolist())\n",
    "tightCommunities.es['weight'] = trivialAdj[trivialAdj.nonzero()]\n",
    "tightCommunities.vs['label'] = node_names\n",
    "\n",
    "print(trivialAdj)\n",
    "print(tightCommunities)\n"
   ]
  },
  {
   "cell_type": "code",
   "execution_count": 6,
   "metadata": {
    "collapsed": false
   },
   "outputs": [
    {
     "ename": "NameError",
     "evalue": "name 'tightCommunities' is not defined",
     "output_type": "error",
     "traceback": [
      "\u001b[1;31m---------------------------------------------------------------------------\u001b[0m",
      "\u001b[1;31mNameError\u001b[0m                                 Traceback (most recent call last)",
      "\u001b[1;32m<ipython-input-6-3eedd702ab2e>\u001b[0m in \u001b[0;36m<module>\u001b[1;34m()\u001b[0m\n\u001b[1;32m----> 1\u001b[1;33m \u001b[0mtightLayout\u001b[0m \u001b[1;33m=\u001b[0m \u001b[0mtightCommunities\u001b[0m\u001b[1;33m.\u001b[0m\u001b[0mlayout\u001b[0m\u001b[1;33m(\u001b[0m\u001b[1;34m\"Fruchterman_Reingold\"\u001b[0m\u001b[1;33m)\u001b[0m\u001b[1;33m\u001b[0m\u001b[0m\n\u001b[0m\u001b[0;32m      2\u001b[0m \u001b[0mig\u001b[0m\u001b[1;33m.\u001b[0m\u001b[0mplot\u001b[0m\u001b[1;33m(\u001b[0m\u001b[0mtightCommunities\u001b[0m\u001b[1;33m,\u001b[0m \u001b[0mlayout\u001b[0m \u001b[1;33m=\u001b[0m \u001b[0mtightLayout\u001b[0m\u001b[1;33m,\u001b[0m \u001b[0mbbox\u001b[0m \u001b[1;33m=\u001b[0m \u001b[1;33m(\u001b[0m\u001b[1;36m300\u001b[0m\u001b[1;33m,\u001b[0m\u001b[1;36m300\u001b[0m\u001b[1;33m)\u001b[0m\u001b[1;33m,\u001b[0m \u001b[0mmargin\u001b[0m\u001b[1;33m=\u001b[0m\u001b[1;36m5\u001b[0m\u001b[1;33m)\u001b[0m\u001b[1;33m\u001b[0m\u001b[0m\n",
      "\u001b[1;31mNameError\u001b[0m: name 'tightCommunities' is not defined"
     ]
    }
   ],
   "source": [
    "tightLayout = tightCommunities.layout(\"Fruchterman_Reingold\")\n",
    "ig.plot(tightCommunities, layout = tightLayout, bbox = (300,300), margin=5)"
   ]
  },
  {
   "cell_type": "markdown",
   "metadata": {},
   "source": [
    "<font size=6>Non-trivial Communities</font>"
   ]
  },
  {
   "cell_type": "code",
   "execution_count": 60,
   "metadata": {
    "collapsed": false
   },
   "outputs": [],
   "source": [
    "membershipMatrix = np.array([\n",
    "[10,0,0],    #user1\n",
    "[10,0,0],    #user2\n",
    "[10,0,0],    #user3\n",
    "[10,1,1],    #user4\n",
    "#[1,0,0],    #user5\n",
    "[0,10,0],    #user6\n",
    "[0,10,0],    #user7\n",
    "[0,10,0],    #user8\n",
    "[0,10,0],    #user9\n",
    "#[0,1,0],    #user10\n",
    "[0,0,10],    #user11\n",
    "[0,0,10],    #user12\n",
    "[0,0,10],    #user13\n",
    "[0,0,10]     #user14\n",
    "#[0,0,1],    #user15\n",
    "])"
   ]
  },
  {
   "cell_type": "code",
   "execution_count": 65,
   "metadata": {
    "collapsed": false
   },
   "outputs": [
    {
     "name": "stdout",
     "output_type": "stream",
     "text": [
      "[[ 0.          0.89974116  0.89974116  0.89974116  0.          0.          0.\n",
      "   0.          0.          0.          0.          0.        ]\n",
      " [ 0.89974116  0.          0.89974116  0.89974116  0.          0.          0.\n",
      "   0.          0.          0.          0.          0.        ]\n",
      " [ 0.89974116  0.89974116  0.          0.89974116  0.          0.          0.\n",
      "   0.          0.          0.          0.          0.        ]\n",
      " [ 0.89974116  0.89974116  0.89974116  0.          0.2054664   0.2054664\n",
      "   0.2054664   0.2054664   0.2054664   0.2054664   0.2054664   0.2054664 ]\n",
      " [ 0.          0.          0.          0.2054664   0.          0.89974116\n",
      "   0.89974116  0.89974116  0.          0.          0.          0.        ]\n",
      " [ 0.          0.          0.          0.2054664   0.89974116  0.\n",
      "   0.89974116  0.89974116  0.          0.          0.          0.        ]\n",
      " [ 0.          0.          0.          0.2054664   0.89974116  0.89974116\n",
      "   0.          0.89974116  0.          0.          0.          0.        ]\n",
      " [ 0.          0.          0.          0.2054664   0.89974116  0.89974116\n",
      "   0.89974116  0.          0.          0.          0.          0.        ]\n",
      " [ 0.          0.          0.          0.2054664   0.          0.          0.\n",
      "   0.          0.          0.89974116  0.89974116  0.89974116]\n",
      " [ 0.          0.          0.          0.2054664   0.          0.          0.\n",
      "   0.          0.89974116  0.          0.89974116  0.89974116]\n",
      " [ 0.          0.          0.          0.2054664   0.          0.          0.\n",
      "   0.          0.89974116  0.89974116  0.          0.89974116]\n",
      " [ 0.          0.          0.          0.2054664   0.          0.          0.\n",
      "   0.          0.89974116  0.89974116  0.89974116  0.        ]]\n"
     ]
    }
   ],
   "source": [
    "node_names= ['a','b','c','d','e','f', 'g', 'h', 'i', 'j', 'k', 'l']\n",
    "#reduction factor, to transform our intuitive membership values (between 0-10) to probabilities.   That is even though two people are\n",
    "#only loosely connected to a community (say 3 each), the probability of connection merely due to that shared community would be\n",
    "#1-exp(-9) = 99.95%\n",
    "connectionModifier = 2.3e-2\n",
    "\n",
    "#probability that two nodes are connected... P(i,j) = 1 - exp(connectionStrengths[i,j])\n",
    "connectionStrengths = connectionModifier * np.inner(membershipMatrix, membershipMatrix)\n",
    "probabiliyOfConnection = 1- np.exp(-connectionStrengths)\n",
    "\n",
    "#zeroing the diagonal elements\n",
    "np.fill_diagonal(probabiliyOfConnection, 0)\n",
    "print(probabiliyOfConnection)\n"
   ]
  },
  {
   "cell_type": "code",
   "execution_count": 66,
   "metadata": {
    "collapsed": false
   },
   "outputs": [
    {
     "name": "stdout",
     "output_type": "stream",
     "text": [
      "[[False  True  True  True False False False False False False False False]\n",
      " [False False  True  True False False False False False False False False]\n",
      " [ True  True False  True False False False False False False False False]\n",
      " [ True  True  True False False  True False False False False  True False]\n",
      " [False False False False False  True  True  True False False False False]\n",
      " [False False False False  True False  True  True False False False False]\n",
      " [False False False  True  True  True False  True False False False False]\n",
      " [False False False  True  True  True  True False False False False False]\n",
      " [False False False False False False False False False  True  True  True]\n",
      " [False False False  True False False False False  True False  True  True]\n",
      " [False False False False False False False False  True  True False  True]\n",
      " [False False False False False False False False  True  True  True False]]\n"
     ]
    }
   ],
   "source": [
    "#probabilityOfConnection contains the probability that any two nodes are connected, given our membership matrix\n",
    "#convert this into an actual graph\n",
    "dim=probabiliyOfConnection.shape\n",
    "\n",
    "#a matrix of random numbers between 0-1;\n",
    "#rand(N,M) will create an NxM array of random numbers \n",
    "randomProbability = np.random.rand(dim[0], dim[1])\n",
    "\n",
    "adjacencyMatrix = probabiliyOfConnection > randomProbability\n",
    "print(adjacencyMatrix)"
   ]
  },
  {
   "cell_type": "code",
   "execution_count": 67,
   "metadata": {
    "collapsed": false
   },
   "outputs": [
    {
     "name": "stdout",
     "output_type": "stream",
     "text": [
      "IGRAPH D-W- 12 40 --\n",
      "+ attr: labels (v), weight (e)\n",
      "+ edges:\n",
      " 0 ->  1  2  3          4 ->  5  6  7          8 ->  9 10 11\n",
      " 1 ->  2  3             5 ->  4  6  7          9 ->  3  8 10 11\n",
      " 2 ->  0  1  3          6 ->  3  4  5  7      10 ->  8  9 11\n",
      " 3 ->  0  1  2  5 10    7 ->  3  4  5  6      11 ->  8  9 10\n"
     ]
    }
   ],
   "source": [
    "#turning the adjacency matrix into a graph\n",
    "communityGraph = ig.Graph.Adjacency(adjacencyMatrix.tolist())\n",
    "communityGraph.vs['labels'] = node_names\n",
    "communityGraph.es['weight'] = adjacencyMatrix[adjacencyMatrix.nonzero()]\n",
    "print(communityGraph)"
   ]
  },
  {
   "cell_type": "code",
   "execution_count": 68,
   "metadata": {
    "collapsed": false
   },
   "outputs": [
    {
     "data": {
      "image/svg+xml": [
       "<?xml version=\"1.0\" encoding=\"UTF-8\"?>\n",
       "<svg xmlns=\"http://www.w3.org/2000/svg\" xmlns:xlink=\"http://www.w3.org/1999/xlink\" width=\"300pt\" height=\"300pt\" viewBox=\"0 0 300 300\" version=\"1.1\">\n",
       "<g id=\"surface56\">\n",
       "<rect x=\"0\" y=\"0\" width=\"300\" height=\"300\" style=\"fill:rgb(100%,100%,100%);fill-opacity:1;stroke:none;\"/>\n",
       "<path style=\"fill:none;stroke-width:1;stroke-linecap:butt;stroke-linejoin:miter;stroke:rgb(26.666667%,26.666667%,26.666667%);stroke-opacity:1;stroke-miterlimit:10;\" d=\"M 39.09375 173.398438 L 35.316406 122.140625 \"/>\n",
       "<path style=\" stroke:none;fill-rule:nonzero;fill:rgb(26.666667%,26.666667%,26.666667%);fill-opacity:1;\" d=\"M 34.265625 107.914062 L 39.9375 121.800781 L 30.691406 122.484375 L 34.265625 107.914062 \"/>\n",
       "<path style=\"fill:none;stroke-width:1;stroke-linecap:butt;stroke-linejoin:miter;stroke:rgb(26.666667%,26.666667%,26.666667%);stroke-opacity:1;stroke-miterlimit:10;\" d=\"M 39.09375 173.398438 C 43.128906 160.800781 40.78125 146.671875 28.699219 143.402344 \"/>\n",
       "<path style=\" stroke:none;fill-rule:nonzero;fill:rgb(26.666667%,26.666667%,26.666667%);fill-opacity:1;\" d=\"M 14.929688 139.675781 L 29.910156 138.929688 L 27.488281 147.875 L 14.929688 139.675781 \"/>\n",
       "<path style=\"fill:none;stroke-width:1;stroke-linecap:butt;stroke-linejoin:miter;stroke:rgb(26.666667%,26.666667%,26.666667%);stroke-opacity:1;stroke-miterlimit:10;\" d=\"M 39.09375 173.398438 C 71.316406 186.820312 102.089844 182.238281 120.285156 152.773438 \"/>\n",
       "<path style=\" stroke:none;fill-rule:nonzero;fill:rgb(26.666667%,26.666667%,26.666667%);fill-opacity:1;\" d=\"M 127.78125 140.632812 L 124.230469 155.207031 L 116.339844 150.335938 L 127.78125 140.632812 \"/>\n",
       "<path style=\"fill:none;stroke-width:1;stroke-linecap:butt;stroke-linejoin:miter;stroke:rgb(26.666667%,26.666667%,26.666667%);stroke-opacity:1;stroke-miterlimit:10;\" d=\"M 33.53125 97.941406 C 21.03125 96.164062 7.917969 100.683594 6.964844 112.53125 \"/>\n",
       "<path style=\" stroke:none;fill-rule:nonzero;fill:rgb(26.666667%,26.666667%,26.666667%);fill-opacity:1;\" d=\"M 5.824219 126.75 L 2.347656 112.160156 L 11.585938 112.902344 L 5.824219 126.75 \"/>\n",
       "<path style=\"fill:none;stroke-width:1;stroke-linecap:butt;stroke-linejoin:miter;stroke:rgb(26.666667%,26.666667%,26.666667%);stroke-opacity:1;stroke-miterlimit:10;\" d=\"M 33.53125 97.941406 C 48.726562 130.589844 75.300781 148.398438 109.71875 138.75 \"/>\n",
       "<path style=\" stroke:none;fill-rule:nonzero;fill:rgb(26.666667%,26.666667%,26.666667%);fill-opacity:1;\" d=\"M 123.453125 134.898438 L 110.96875 143.214844 L 108.464844 134.285156 L 123.453125 134.898438 \"/>\n",
       "<path style=\"fill:none;stroke-width:1;stroke-linecap:butt;stroke-linejoin:miter;stroke:rgb(26.666667%,26.666667%,26.666667%);stroke-opacity:1;stroke-miterlimit:10;\" d=\"M 5 136.984375 C 0.964844 149.582031 3.3125 163.710938 15.394531 166.980469 \"/>\n",
       "<path style=\" stroke:none;fill-rule:nonzero;fill:rgb(26.666667%,26.666667%,26.666667%);fill-opacity:1;\" d=\"M 29.164062 170.710938 L 14.183594 171.457031 L 16.605469 162.507812 L 29.164062 170.710938 \"/>\n",
       "<path style=\"fill:none;stroke-width:1;stroke-linecap:butt;stroke-linejoin:miter;stroke:rgb(26.666667%,26.666667%,26.666667%);stroke-opacity:1;stroke-miterlimit:10;\" d=\"M 5 136.984375 C 17.503906 138.765625 30.613281 134.246094 31.566406 122.398438 \"/>\n",
       "<path style=\" stroke:none;fill-rule:nonzero;fill:rgb(26.666667%,26.666667%,26.666667%);fill-opacity:1;\" d=\"M 32.710938 108.179688 L 36.1875 122.769531 L 26.945312 122.027344 L 32.710938 108.179688 \"/>\n",
       "<path style=\"fill:none;stroke-width:1;stroke-linecap:butt;stroke-linejoin:miter;stroke:rgb(26.666667%,26.666667%,26.666667%);stroke-opacity:1;stroke-miterlimit:10;\" d=\"M 5 136.984375 C 38.761719 167.453125 77.648438 174.238281 113.699219 146.863281 \"/>\n",
       "<path style=\" stroke:none;fill-rule:nonzero;fill:rgb(26.666667%,26.666667%,26.666667%);fill-opacity:1;\" d=\"M 125.058594 138.238281 L 116.503906 150.554688 L 110.894531 143.171875 L 125.058594 138.238281 \"/>\n",
       "<path style=\"fill:none;stroke-width:1;stroke-linecap:butt;stroke-linejoin:miter;stroke:rgb(26.666667%,26.666667%,26.666667%);stroke-opacity:1;stroke-miterlimit:10;\" d=\"M 132.96875 132.234375 C 100.746094 118.808594 69.972656 123.394531 51.777344 152.859375 \"/>\n",
       "<path style=\" stroke:none;fill-rule:nonzero;fill:rgb(26.666667%,26.666667%,26.666667%);fill-opacity:1;\" d=\"M 44.28125 164.996094 L 47.832031 150.421875 L 55.722656 155.292969 L 44.28125 164.996094 \"/>\n",
       "<path style=\"fill:none;stroke-width:1;stroke-linecap:butt;stroke-linejoin:miter;stroke:rgb(26.666667%,26.666667%,26.666667%);stroke-opacity:1;stroke-miterlimit:10;\" d=\"M 132.96875 132.234375 C 117.773438 99.582031 91.199219 81.777344 56.78125 91.425781 \"/>\n",
       "<path style=\" stroke:none;fill-rule:nonzero;fill:rgb(26.666667%,26.666667%,26.666667%);fill-opacity:1;\" d=\"M 43.046875 95.273438 L 55.53125 86.960938 L 58.035156 95.886719 L 43.046875 95.273438 \"/>\n",
       "<path style=\"fill:none;stroke-width:1;stroke-linecap:butt;stroke-linejoin:miter;stroke:rgb(26.666667%,26.666667%,26.666667%);stroke-opacity:1;stroke-miterlimit:10;\" d=\"M 132.96875 132.234375 C 99.203125 101.765625 60.320312 94.976562 24.269531 122.351562 \"/>\n",
       "<path style=\" stroke:none;fill-rule:nonzero;fill:rgb(26.666667%,26.666667%,26.666667%);fill-opacity:1;\" d=\"M 12.90625 130.980469 L 21.464844 118.660156 L 27.070312 126.046875 L 12.90625 130.980469 \"/>\n",
       "<path style=\"fill:none;stroke-width:1;stroke-linecap:butt;stroke-linejoin:miter;stroke:rgb(26.666667%,26.666667%,26.666667%);stroke-opacity:1;stroke-miterlimit:10;\" d=\"M 132.96875 132.234375 L 195.003906 74.890625 \"/>\n",
       "<path style=\" stroke:none;fill-rule:nonzero;fill:rgb(26.666667%,26.666667%,26.666667%);fill-opacity:1;\" d=\"M 205.480469 65.207031 L 198.152344 78.292969 L 191.859375 71.484375 L 205.480469 65.207031 \"/>\n",
       "<path style=\"fill:none;stroke-width:1;stroke-linecap:butt;stroke-linejoin:miter;stroke:rgb(26.666667%,26.666667%,26.666667%);stroke-opacity:1;stroke-miterlimit:10;\" d=\"M 132.96875 132.234375 L 228.433594 207.96875 \"/>\n",
       "<path style=\" stroke:none;fill-rule:nonzero;fill:rgb(26.666667%,26.666667%,26.666667%);fill-opacity:1;\" d=\"M 239.609375 216.835938 L 225.550781 211.597656 L 231.3125 204.335938 L 239.609375 216.835938 \"/>\n",
       "<path style=\"fill:none;stroke-width:1;stroke-linecap:butt;stroke-linejoin:miter;stroke:rgb(26.666667%,26.666667%,26.666667%);stroke-opacity:1;stroke-miterlimit:10;\" d=\"M 274.375 5 C 248.394531 1.226562 225.769531 10.164062 219.0625 35.171875 \"/>\n",
       "<path style=\" stroke:none;fill-rule:nonzero;fill:rgb(26.666667%,26.666667%,26.666667%);fill-opacity:1;\" d=\"M 215.363281 48.949219 L 214.585938 33.96875 L 223.539062 36.371094 L 215.363281 48.949219 \"/>\n",
       "<path style=\"fill:none;stroke-width:1;stroke-linecap:butt;stroke-linejoin:miter;stroke:rgb(26.666667%,26.666667%,26.666667%);stroke-opacity:1;stroke-miterlimit:10;\" d=\"M 274.375 5 C 259.773438 12.410156 250.105469 26.050781 257.011719 40.257812 \"/>\n",
       "<path style=\" stroke:none;fill-rule:nonzero;fill:rgb(26.666667%,26.666667%,26.666667%);fill-opacity:1;\" d=\"M 263.246094 53.089844 L 252.84375 42.285156 L 261.179688 38.230469 L 263.246094 53.089844 \"/>\n",
       "<path style=\"fill:none;stroke-width:1;stroke-linecap:butt;stroke-linejoin:miter;stroke:rgb(26.666667%,26.666667%,26.666667%);stroke-opacity:1;stroke-miterlimit:10;\" d=\"M 274.375 5 C 253.136719 -11.070312 228.710938 -14.171875 210.453125 4.730469 \"/>\n",
       "<path style=\" stroke:none;fill-rule:nonzero;fill:rgb(26.666667%,26.666667%,26.666667%);fill-opacity:1;\" d=\"M 200.542969 14.992188 L 207.121094 1.507812 L 213.789062 7.949219 L 200.542969 14.992188 \"/>\n",
       "<path style=\"fill:none;stroke-width:1;stroke-linecap:butt;stroke-linejoin:miter;stroke:rgb(26.666667%,26.666667%,26.666667%);stroke-opacity:1;stroke-miterlimit:10;\" d=\"M 212.824219 58.417969 C 238.804688 62.191406 261.429688 53.257812 268.140625 28.246094 \"/>\n",
       "<path style=\" stroke:none;fill-rule:nonzero;fill:rgb(26.666667%,26.666667%,26.666667%);fill-opacity:1;\" d=\"M 271.835938 14.46875 L 272.617188 29.449219 L 263.664062 27.046875 L 271.835938 14.46875 \"/>\n",
       "<path style=\"fill:none;stroke-width:1;stroke-linecap:butt;stroke-linejoin:miter;stroke:rgb(26.666667%,26.666667%,26.666667%);stroke-opacity:1;stroke-miterlimit:10;\" d=\"M 212.824219 58.417969 C 220.007812 71.925781 233.117188 80.917969 246.066406 74.003906 \"/>\n",
       "<path style=\" stroke:none;fill-rule:nonzero;fill:rgb(26.666667%,26.666667%,26.666667%);fill-opacity:1;\" d=\"M 258.652344 67.289062 L 248.25 78.09375 L 243.886719 69.914062 L 258.652344 67.289062 \"/>\n",
       "<path style=\"fill:none;stroke-width:1;stroke-linecap:butt;stroke-linejoin:miter;stroke:rgb(26.666667%,26.666667%,26.666667%);stroke-opacity:1;stroke-miterlimit:10;\" d=\"M 212.824219 58.417969 C 219.261719 50.996094 222.042969 39.566406 214.5 34.898438 \"/>\n",
       "<path style=\" stroke:none;fill-rule:nonzero;fill:rgb(26.666667%,26.666667%,26.666667%);fill-opacity:1;\" d=\"M 202.371094 27.390625 L 216.941406 30.957031 L 212.0625 38.839844 L 202.371094 27.390625 \"/>\n",
       "<path style=\"fill:none;stroke-width:1;stroke-linecap:butt;stroke-linejoin:miter;stroke:rgb(26.666667%,26.666667%,26.666667%);stroke-opacity:1;stroke-miterlimit:10;\" d=\"M 267.78125 62.417969 L 154.515625 121.074219 \"/>\n",
       "<path style=\" stroke:none;fill-rule:nonzero;fill:rgb(26.666667%,26.666667%,26.666667%);fill-opacity:1;\" d=\"M 141.847656 127.632812 L 152.382812 116.957031 L 156.648438 125.191406 L 141.847656 127.632812 \"/>\n",
       "<path style=\"fill:none;stroke-width:1;stroke-linecap:butt;stroke-linejoin:miter;stroke:rgb(26.666667%,26.666667%,26.666667%);stroke-opacity:1;stroke-miterlimit:10;\" d=\"M 267.78125 62.417969 C 282.382812 55.003906 292.054688 41.367188 285.148438 27.160156 \"/>\n",
       "<path style=\" stroke:none;fill-rule:nonzero;fill:rgb(26.666667%,26.666667%,26.666667%);fill-opacity:1;\" d=\"M 278.910156 14.328125 L 289.316406 25.132812 L 280.976562 29.183594 L 278.910156 14.328125 \"/>\n",
       "<path style=\"fill:none;stroke-width:1;stroke-linecap:butt;stroke-linejoin:miter;stroke:rgb(26.666667%,26.666667%,26.666667%);stroke-opacity:1;stroke-miterlimit:10;\" d=\"M 267.78125 62.417969 C 260.597656 48.910156 247.488281 39.917969 234.539062 46.832031 \"/>\n",
       "<path style=\" stroke:none;fill-rule:nonzero;fill:rgb(26.666667%,26.666667%,26.666667%);fill-opacity:1;\" d=\"M 221.953125 53.546875 L 232.355469 42.742188 L 236.71875 50.921875 L 221.953125 53.546875 \"/>\n",
       "<path style=\"fill:none;stroke-width:1;stroke-linecap:butt;stroke-linejoin:miter;stroke:rgb(26.666667%,26.666667%,26.666667%);stroke-opacity:1;stroke-miterlimit:10;\" d=\"M 267.78125 62.417969 C 261.761719 35.664062 244.648438 17.117188 217.699219 19.726562 \"/>\n",
       "<path style=\" stroke:none;fill-rule:nonzero;fill:rgb(26.666667%,26.666667%,26.666667%);fill-opacity:1;\" d=\"M 203.5 21.097656 L 217.25 15.109375 L 218.144531 24.339844 L 203.5 21.097656 \"/>\n",
       "<path style=\"fill:none;stroke-width:1;stroke-linecap:butt;stroke-linejoin:miter;stroke:rgb(26.666667%,26.666667%,26.666667%);stroke-opacity:1;stroke-miterlimit:10;\" d=\"M 193.730469 22.046875 L 144.6875 110.984375 \"/>\n",
       "<path style=\" stroke:none;fill-rule:nonzero;fill:rgb(26.666667%,26.666667%,26.666667%);fill-opacity:1;\" d=\"M 137.796875 123.476562 L 140.625 108.746094 L 148.746094 113.222656 L 137.796875 123.476562 \"/>\n",
       "<path style=\"fill:none;stroke-width:1;stroke-linecap:butt;stroke-linejoin:miter;stroke:rgb(26.666667%,26.666667%,26.666667%);stroke-opacity:1;stroke-miterlimit:10;\" d=\"M 193.730469 22.046875 C 214.96875 38.117188 239.394531 41.21875 257.652344 22.316406 \"/>\n",
       "<path style=\" stroke:none;fill-rule:nonzero;fill:rgb(26.666667%,26.666667%,26.666667%);fill-opacity:1;\" d=\"M 267.5625 12.054688 L 260.988281 25.535156 L 254.320312 19.09375 L 267.5625 12.054688 \"/>\n",
       "<path style=\"fill:none;stroke-width:1;stroke-linecap:butt;stroke-linejoin:miter;stroke:rgb(26.666667%,26.666667%,26.666667%);stroke-opacity:1;stroke-miterlimit:10;\" d=\"M 193.730469 22.046875 C 187.289062 29.464844 184.511719 40.898438 192.054688 45.566406 \"/>\n",
       "<path style=\" stroke:none;fill-rule:nonzero;fill:rgb(26.666667%,26.666667%,26.666667%);fill-opacity:1;\" d=\"M 204.183594 53.070312 L 189.613281 49.507812 L 194.492188 41.625 L 204.183594 53.070312 \"/>\n",
       "<path style=\"fill:none;stroke-width:1;stroke-linecap:butt;stroke-linejoin:miter;stroke:rgb(26.666667%,26.666667%,26.666667%);stroke-opacity:1;stroke-miterlimit:10;\" d=\"M 193.730469 22.046875 C 199.75 48.796875 216.863281 67.34375 243.8125 64.738281 \"/>\n",
       "<path style=\" stroke:none;fill-rule:nonzero;fill:rgb(26.666667%,26.666667%,26.666667%);fill-opacity:1;\" d=\"M 258.011719 63.363281 L 244.257812 69.351562 L 243.367188 60.125 L 258.011719 63.363281 \"/>\n",
       "<path style=\"fill:none;stroke-width:1;stroke-linecap:butt;stroke-linejoin:miter;stroke:rgb(26.666667%,26.666667%,26.666667%);stroke-opacity:1;stroke-miterlimit:10;\" d=\"M 295 269.140625 C 277.34375 239.195312 250.070312 224.445312 217.976562 237.070312 \"/>\n",
       "<path style=\" stroke:none;fill-rule:nonzero;fill:rgb(26.666667%,26.666667%,26.666667%);fill-opacity:1;\" d=\"M 204.703125 242.292969 L 216.28125 232.757812 L 219.675781 241.382812 L 204.703125 242.292969 \"/>\n",
       "<path style=\"fill:none;stroke-width:1;stroke-linecap:butt;stroke-linejoin:miter;stroke:rgb(26.666667%,26.666667%,26.666667%);stroke-opacity:1;stroke-miterlimit:10;\" d=\"M 295 269.140625 C 297.570312 249.527344 290.632812 231.480469 271.691406 227.78125 \"/>\n",
       "<path style=\" stroke:none;fill-rule:nonzero;fill:rgb(26.666667%,26.666667%,26.666667%);fill-opacity:1;\" d=\"M 257.691406 225.050781 L 272.578125 223.234375 L 270.804688 232.332031 L 257.691406 225.050781 \"/>\n",
       "<path style=\"fill:none;stroke-width:1;stroke-linecap:butt;stroke-linejoin:miter;stroke:rgb(26.666667%,26.666667%,26.666667%);stroke-opacity:1;stroke-miterlimit:10;\" d=\"M 295 269.140625 C 278.757812 259.667969 260.1875 259.027344 250.175781 274.339844 \"/>\n",
       "<path style=\" stroke:none;fill-rule:nonzero;fill:rgb(26.666667%,26.666667%,26.666667%);fill-opacity:1;\" d=\"M 242.367188 286.277344 L 246.296875 271.800781 L 254.054688 276.875 L 242.367188 286.277344 \"/>\n",
       "<path style=\"fill:none;stroke-width:1;stroke-linecap:butt;stroke-linejoin:miter;stroke:rgb(26.666667%,26.666667%,26.666667%);stroke-opacity:1;stroke-miterlimit:10;\" d=\"M 195.515625 245.90625 L 144.664062 153.492188 \"/>\n",
       "<path style=\" stroke:none;fill-rule:nonzero;fill:rgb(26.666667%,26.666667%,26.666667%);fill-opacity:1;\" d=\"M 137.789062 140.992188 L 148.726562 151.257812 L 140.605469 155.726562 L 137.789062 140.992188 \"/>\n",
       "<path style=\"fill:none;stroke-width:1;stroke-linecap:butt;stroke-linejoin:miter;stroke:rgb(26.666667%,26.666667%,26.666667%);stroke-opacity:1;stroke-miterlimit:10;\" d=\"M 195.515625 245.90625 C 213.171875 275.855469 240.441406 290.605469 272.535156 277.980469 \"/>\n",
       "<path style=\" stroke:none;fill-rule:nonzero;fill:rgb(26.666667%,26.666667%,26.666667%);fill-opacity:1;\" d=\"M 285.8125 272.757812 L 274.234375 282.292969 L 270.839844 273.664062 L 285.8125 272.757812 \"/>\n",
       "<path style=\"fill:none;stroke-width:1;stroke-linecap:butt;stroke-linejoin:miter;stroke:rgb(26.666667%,26.666667%,26.666667%);stroke-opacity:1;stroke-miterlimit:10;\" d=\"M 195.515625 245.90625 C 208.851562 254.660156 225.167969 256.257812 233.722656 243.503906 \"/>\n",
       "<path style=\" stroke:none;fill-rule:nonzero;fill:rgb(26.666667%,26.666667%,26.666667%);fill-opacity:1;\" d=\"M 241.671875 231.65625 L 237.574219 246.085938 L 229.875 240.921875 L 241.671875 231.65625 \"/>\n",
       "<path style=\"fill:none;stroke-width:1;stroke-linecap:butt;stroke-linejoin:miter;stroke:rgb(26.666667%,26.666667%,26.666667%);stroke-opacity:1;stroke-miterlimit:10;\" d=\"M 195.515625 245.90625 C 190.90625 264.238281 195.480469 282.324219 213.0625 287.738281 \"/>\n",
       "<path style=\" stroke:none;fill-rule:nonzero;fill:rgb(26.666667%,26.666667%,26.666667%);fill-opacity:1;\" d=\"M 226.699219 291.933594 L 211.699219 292.167969 L 214.425781 283.308594 L 226.699219 291.933594 \"/>\n",
       "<path style=\"fill:none;stroke-width:1;stroke-linecap:butt;stroke-linejoin:miter;stroke:rgb(26.666667%,26.666667%,26.666667%);stroke-opacity:1;stroke-miterlimit:10;\" d=\"M 247.441406 223.050781 C 244.871094 242.664062 251.808594 260.710938 270.75 264.410156 \"/>\n",
       "<path style=\" stroke:none;fill-rule:nonzero;fill:rgb(26.666667%,26.666667%,26.666667%);fill-opacity:1;\" d=\"M 284.753906 267.140625 L 269.863281 268.960938 L 271.640625 259.859375 L 284.753906 267.140625 \"/>\n",
       "<path style=\"fill:none;stroke-width:1;stroke-linecap:butt;stroke-linejoin:miter;stroke:rgb(26.666667%,26.666667%,26.666667%);stroke-opacity:1;stroke-miterlimit:10;\" d=\"M 247.441406 223.050781 C 234.105469 214.300781 217.789062 212.699219 209.234375 225.457031 \"/>\n",
       "<path style=\" stroke:none;fill-rule:nonzero;fill:rgb(26.666667%,26.666667%,26.666667%);fill-opacity:1;\" d=\"M 201.285156 237.300781 L 205.382812 222.875 L 213.082031 228.039062 L 201.285156 237.300781 \"/>\n",
       "<path style=\"fill:none;stroke-width:1;stroke-linecap:butt;stroke-linejoin:miter;stroke:rgb(26.666667%,26.666667%,26.666667%);stroke-opacity:1;stroke-miterlimit:10;\" d=\"M 247.441406 223.050781 C 228 234.25 216.976562 252.585938 226.242188 272.550781 \"/>\n",
       "<path style=\" stroke:none;fill-rule:nonzero;fill:rgb(26.666667%,26.666667%,26.666667%);fill-opacity:1;\" d=\"M 232.25 285.492188 L 222.039062 274.503906 L 230.449219 270.597656 L 232.25 285.492188 \"/>\n",
       "<path style=\"fill:none;stroke-width:1;stroke-linecap:butt;stroke-linejoin:miter;stroke:rgb(26.666667%,26.666667%,26.666667%);stroke-opacity:1;stroke-miterlimit:10;\" d=\"M 236.660156 295 C 252.902344 304.472656 271.472656 305.117188 281.488281 289.804688 \"/>\n",
       "<path style=\" stroke:none;fill-rule:nonzero;fill:rgb(26.666667%,26.666667%,26.666667%);fill-opacity:1;\" d=\"M 289.296875 277.863281 L 285.367188 292.339844 L 277.605469 287.265625 L 289.296875 277.863281 \"/>\n",
       "<path style=\"fill:none;stroke-width:1;stroke-linecap:butt;stroke-linejoin:miter;stroke:rgb(26.666667%,26.666667%,26.666667%);stroke-opacity:1;stroke-miterlimit:10;\" d=\"M 236.660156 295 C 241.269531 276.667969 236.695312 258.582031 219.113281 253.171875 \"/>\n",
       "<path style=\" stroke:none;fill-rule:nonzero;fill:rgb(26.666667%,26.666667%,26.666667%);fill-opacity:1;\" d=\"M 205.476562 248.972656 L 220.476562 248.742188 L 217.75 257.601562 L 205.476562 248.972656 \"/>\n",
       "<path style=\"fill:none;stroke-width:1;stroke-linecap:butt;stroke-linejoin:miter;stroke:rgb(26.666667%,26.666667%,26.666667%);stroke-opacity:1;stroke-miterlimit:10;\" d=\"M 236.660156 295 C 256.101562 283.800781 267.125 265.464844 257.859375 245.5 \"/>\n",
       "<path style=\" stroke:none;fill-rule:nonzero;fill:rgb(26.666667%,26.666667%,26.666667%);fill-opacity:1;\" d=\"M 251.855469 232.558594 L 262.066406 243.546875 L 253.65625 247.449219 L 251.855469 232.558594 \"/>\n",
       "<path style=\"fill-rule:nonzero;fill:rgb(100%,0%,0%);fill-opacity:1;stroke-width:1;stroke-linecap:butt;stroke-linejoin:miter;stroke:rgb(0%,0%,0%);stroke-opacity:1;stroke-miterlimit:10;\" d=\"M 49.09375 173.398438 C 49.09375 178.921875 44.617188 183.398438 39.09375 183.398438 C 33.570312 183.398438 29.09375 178.921875 29.09375 173.398438 C 29.09375 167.875 33.570312 163.398438 39.09375 163.398438 C 44.617188 163.398438 49.09375 167.875 49.09375 173.398438 \"/>\n",
       "<path style=\"fill-rule:nonzero;fill:rgb(100%,0%,0%);fill-opacity:1;stroke-width:1;stroke-linecap:butt;stroke-linejoin:miter;stroke:rgb(0%,0%,0%);stroke-opacity:1;stroke-miterlimit:10;\" d=\"M 43.53125 97.941406 C 43.53125 103.464844 39.054688 107.941406 33.53125 107.941406 C 28.007812 107.941406 23.53125 103.464844 23.53125 97.941406 C 23.53125 92.417969 28.007812 87.941406 33.53125 87.941406 C 39.054688 87.941406 43.53125 92.417969 43.53125 97.941406 \"/>\n",
       "<path style=\"fill-rule:nonzero;fill:rgb(100%,0%,0%);fill-opacity:1;stroke-width:1;stroke-linecap:butt;stroke-linejoin:miter;stroke:rgb(0%,0%,0%);stroke-opacity:1;stroke-miterlimit:10;\" d=\"M 15 136.984375 C 15 142.507812 10.523438 146.984375 5 146.984375 C -0.523438 146.984375 -5 142.507812 -5 136.984375 C -5 131.464844 -0.523438 126.984375 5 126.984375 C 10.523438 126.984375 15 131.464844 15 136.984375 \"/>\n",
       "<path style=\"fill-rule:nonzero;fill:rgb(100%,0%,0%);fill-opacity:1;stroke-width:1;stroke-linecap:butt;stroke-linejoin:miter;stroke:rgb(0%,0%,0%);stroke-opacity:1;stroke-miterlimit:10;\" d=\"M 142.96875 132.234375 C 142.96875 137.753906 138.492188 142.234375 132.96875 142.234375 C 127.445312 142.234375 122.96875 137.753906 122.96875 132.234375 C 122.96875 126.710938 127.445312 122.234375 132.96875 122.234375 C 138.492188 122.234375 142.96875 126.710938 142.96875 132.234375 \"/>\n",
       "<path style=\"fill-rule:nonzero;fill:rgb(100%,0%,0%);fill-opacity:1;stroke-width:1;stroke-linecap:butt;stroke-linejoin:miter;stroke:rgb(0%,0%,0%);stroke-opacity:1;stroke-miterlimit:10;\" d=\"M 284.375 5 C 284.375 10.523438 279.898438 15 274.375 15 C 268.855469 15 264.375 10.523438 264.375 5 C 264.375 -0.523438 268.855469 -5 274.375 -5 C 279.898438 -5 284.375 -0.523438 284.375 5 \"/>\n",
       "<path style=\"fill-rule:nonzero;fill:rgb(100%,0%,0%);fill-opacity:1;stroke-width:1;stroke-linecap:butt;stroke-linejoin:miter;stroke:rgb(0%,0%,0%);stroke-opacity:1;stroke-miterlimit:10;\" d=\"M 222.824219 58.417969 C 222.824219 63.941406 218.347656 68.417969 212.824219 68.417969 C 207.300781 68.417969 202.824219 63.941406 202.824219 58.417969 C 202.824219 52.894531 207.300781 48.417969 212.824219 48.417969 C 218.347656 48.417969 222.824219 52.894531 222.824219 58.417969 \"/>\n",
       "<path style=\"fill-rule:nonzero;fill:rgb(100%,0%,0%);fill-opacity:1;stroke-width:1;stroke-linecap:butt;stroke-linejoin:miter;stroke:rgb(0%,0%,0%);stroke-opacity:1;stroke-miterlimit:10;\" d=\"M 277.78125 62.417969 C 277.78125 67.941406 273.304688 72.417969 267.78125 72.417969 C 262.257812 72.417969 257.78125 67.941406 257.78125 62.417969 C 257.78125 56.894531 262.257812 52.417969 267.78125 52.417969 C 273.304688 52.417969 277.78125 56.894531 277.78125 62.417969 \"/>\n",
       "<path style=\"fill-rule:nonzero;fill:rgb(100%,0%,0%);fill-opacity:1;stroke-width:1;stroke-linecap:butt;stroke-linejoin:miter;stroke:rgb(0%,0%,0%);stroke-opacity:1;stroke-miterlimit:10;\" d=\"M 203.730469 22.046875 C 203.730469 27.566406 199.253906 32.046875 193.730469 32.046875 C 188.207031 32.046875 183.730469 27.566406 183.730469 22.046875 C 183.730469 16.523438 188.207031 12.046875 193.730469 12.046875 C 199.253906 12.046875 203.730469 16.523438 203.730469 22.046875 \"/>\n",
       "<path style=\"fill-rule:nonzero;fill:rgb(100%,0%,0%);fill-opacity:1;stroke-width:1;stroke-linecap:butt;stroke-linejoin:miter;stroke:rgb(0%,0%,0%);stroke-opacity:1;stroke-miterlimit:10;\" d=\"M 305 269.140625 C 305 274.664062 300.523438 279.140625 295 279.140625 C 289.476562 279.140625 285 274.664062 285 269.140625 C 285 263.621094 289.476562 259.140625 295 259.140625 C 300.523438 259.140625 305 263.621094 305 269.140625 \"/>\n",
       "<path style=\"fill-rule:nonzero;fill:rgb(100%,0%,0%);fill-opacity:1;stroke-width:1;stroke-linecap:butt;stroke-linejoin:miter;stroke:rgb(0%,0%,0%);stroke-opacity:1;stroke-miterlimit:10;\" d=\"M 205.515625 245.90625 C 205.515625 251.429688 201.039062 255.90625 195.515625 255.90625 C 189.992188 255.90625 185.515625 251.429688 185.515625 245.90625 C 185.515625 240.386719 189.992188 235.90625 195.515625 235.90625 C 201.039062 235.90625 205.515625 240.386719 205.515625 245.90625 \"/>\n",
       "<path style=\"fill-rule:nonzero;fill:rgb(100%,0%,0%);fill-opacity:1;stroke-width:1;stroke-linecap:butt;stroke-linejoin:miter;stroke:rgb(0%,0%,0%);stroke-opacity:1;stroke-miterlimit:10;\" d=\"M 257.441406 223.050781 C 257.441406 228.574219 252.964844 233.050781 247.441406 233.050781 C 241.917969 233.050781 237.441406 228.574219 237.441406 223.050781 C 237.441406 217.527344 241.917969 213.050781 247.441406 213.050781 C 252.964844 213.050781 257.441406 217.527344 257.441406 223.050781 \"/>\n",
       "<path style=\"fill-rule:nonzero;fill:rgb(100%,0%,0%);fill-opacity:1;stroke-width:1;stroke-linecap:butt;stroke-linejoin:miter;stroke:rgb(0%,0%,0%);stroke-opacity:1;stroke-miterlimit:10;\" d=\"M 246.660156 295 C 246.660156 300.523438 242.183594 305 236.660156 305 C 231.136719 305 226.660156 300.523438 226.660156 295 C 226.660156 289.476562 231.136719 285 236.660156 285 C 242.183594 285 246.660156 289.476562 246.660156 295 \"/>\n",
       "</g>\n",
       "</svg>\n"
      ],
      "text/plain": [
       "<igraph.drawing.Plot at 0x7f2893b54fd0>"
      ]
     },
     "execution_count": 68,
     "metadata": {},
     "output_type": "execute_result"
    }
   ],
   "source": [
    "communityGraphLayout = communityGraph.layout(\"Fruchterman_Reingold\")\n",
    "ig.plot(communityGraph, layout = communityGraphLayout, bbox = (300,300), margin=5)"
   ]
  },
  {
   "cell_type": "markdown",
   "metadata": {},
   "source": [
    "<font size=5>The generation method shown above is implemented in GraphLibrary.py (should be in the same directory that the python notebook is in)</font>"
   ]
  }
 ],
 "metadata": {
  "celltoolbar": "Raw Cell Format",
  "kernelspec": {
   "display_name": "Python 2",
   "language": "python",
   "name": "python2"
  },
  "language_info": {
   "codemirror_mode": {
    "name": "ipython",
    "version": 2
   },
   "file_extension": ".py",
   "mimetype": "text/x-python",
   "name": "python",
   "nbconvert_exporter": "python",
   "pygments_lexer": "ipython2",
   "version": "2.7.9"
  }
 },
 "nbformat": 4,
 "nbformat_minor": 0
}
