{
 "metadata": {
  "name": "",
  "signature": "sha256:f264819dd10ed26d3c9431c162d2bd25068f3a8bdece73a1e1b41c6d4c5ec097"
 },
 "nbformat": 3,
 "nbformat_minor": 0,
 "worksheets": [
  {
   "cells": [
    {
     "cell_type": "markdown",
     "metadata": {},
     "source": [
      "<p><font size=7>BigClam</font></p>\n",
      "<p>https://snap.stanford.edu/snap/description.html</p>\n",
      "    "
     ]
    },
    {
     "cell_type": "code",
     "collapsed": false,
     "input": [],
     "language": "python",
     "metadata": {},
     "outputs": []
    }
   ],
   "metadata": {}
  }
 ]
}