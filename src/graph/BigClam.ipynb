{
 "metadata": {
  "name": "",
  "signature": "sha256:bb730c3edae5c83ae46655a9bea3731032142af08031eb3540024299dbcda4fe"
 },
 "nbformat": 3,
 "nbformat_minor": 0,
 "worksheets": [
  {
   "cells": [
    {
     "cell_type": "markdown",
     "metadata": {},
     "source": [
      "<p><font size=7>BigClam</font></p>\n",
      "<p>https://snap.stanford.edu/snap/description.html</p>\n",
      "    "
     ]
    },
    {
     "cell_type": "code",
     "collapsed": false,
     "input": [
      "import GraphLibrary\n",
      "import Sugar\n",
      "import snap as Snap"
     ],
     "language": "python",
     "metadata": {},
     "outputs": [],
     "prompt_number": 58
    },
    {
     "cell_type": "markdown",
     "metadata": {},
     "source": [
      "<HR WIDTH=\"100%\" size=5>\n",
      "<font size=4>Create graph with communities from the GraphLibrary<font>\n",
      "<HR WIDTH=\"100%\" size=1>"
     ]
    },
    {
     "cell_type": "code",
     "collapsed": false,
     "input": [
      "ig1 = GraphLibrary.generateGraph()\n",
      "print(ig1)"
     ],
     "language": "python",
     "metadata": {},
     "outputs": [
      {
       "output_type": "stream",
       "stream": "stdout",
       "text": [
        "IGRAPH D-W- 15 63 --\n",
        "+ attr: label (v), weight (e)\n",
        "+ edges:\n",
        " 0 ->  1  2  3  4          5 ->  6  7  8  9         10 ->  3 11 12 13 14\n",
        " 1 ->  0  2  3  4          6 ->  5  7  8  9         11 -> 10 12 13 14\n",
        " 2 ->  0  1  3  4          7 ->  5  6  8  9         12 ->  3 10 11 13\n",
        " 3 ->  0  2  4  5 10 12    8 ->  5  6  7  9         13 -> 10 11 12\n",
        " 4 ->  0  1  2  3          9 ->  5  6  7  8         14 ->  3 10 11 12 13\n"
       ]
      }
     ],
     "prompt_number": 51
    },
    {
     "cell_type": "markdown",
     "metadata": {},
     "source": [
      "<HR WIDTH=\"100%\" size=5>\n",
      "<font size=4>Convert graph's adjacency list to a file that can be read by SNAP<font>\n",
      "<HR WIDTH=\"100%\" size=1>"
     ]
    },
    {
     "cell_type": "code",
     "collapsed": false,
     "input": [
      "#adds an index to each element in the list (similar to zipWithIndex in scala)\n",
      "enumeratedAdjList = enumerate(adjList)\n",
      "def labelConnections(tuple):\n",
      "    index = tuple[0]\n",
      "    list = tuple[1]\n",
      "    return map(lambda x: (index, x), list)\n",
      "\n",
      "a = Sugar.flatmap(labelConnections, list(enumeratedAdjList))\n",
      "flatAdjacencyList = list(a)\n",
      "\n",
      "#create a file for writing\n",
      "tempFileName='tempAdjacencyFile.tsv'\n",
      "tempAdjFile = open(tempFileName, 'w')\n",
      "for element in flatAdjacencyList:\n",
      "    tempAdjFile.write(str(element[0]) + \"\\t\"+str(element[1])+\"\\n\")\n",
      "    \n",
      "tempAdjFile.close()\n",
      "\n",
      "#now we want to convert this adjacency list into a Snap directed graph"
     ],
     "language": "python",
     "metadata": {},
     "outputs": [],
     "prompt_number": 57
    },
    {
     "cell_type": "markdown",
     "metadata": {},
     "source": [
      "<HR SIZE=5>\n",
      "<font size=4>Read the adjacency list into a SNAP network<font>\n",
      "<font size=2>Documentation on NEANet https://snap.stanford.edu/snappy/doc/reference/graphs.html?highlight=tneanetnodei#tneanet<font>\n",
      "<HR SIZE=1>"
     ]
    },
    {
     "cell_type": "code",
     "collapsed": false,
     "input": [
      "network = Snap.LoadEdgeList(Snap.PNEANet, tempFileName, 0, 1)\n",
      "#quick check to see if the graph was read in correctly\n",
      "for node in network.Nodes():\n",
      "    for edgeInNum in range(node.GetInDeg()):\n",
      "        print \"edge (%d -> %d)\" % (node.GetInNId(edgeInNum),node.GetId())\n"
     ],
     "language": "python",
     "metadata": {},
     "outputs": [
      {
       "output_type": "stream",
       "stream": "stdout",
       "text": [
        "edge (1 -> 0)\n",
        "edge (2 -> 0)\n",
        "edge (3 -> 0)\n",
        "edge (4 -> 0)\n",
        "edge (0 -> 1)\n",
        "edge (2 -> 1)\n",
        "edge (4 -> 1)\n",
        "edge (0 -> 2)\n",
        "edge (1 -> 2)\n",
        "edge (3 -> 2)\n",
        "edge (4 -> 2)\n",
        "edge (0 -> 3)\n",
        "edge (1 -> 3)\n",
        "edge (2 -> 3)\n",
        "edge (4 -> 3)\n",
        "edge (10 -> 3)\n",
        "edge (12 -> 3)\n",
        "edge (14 -> 3)\n",
        "edge (0 -> 4)\n",
        "edge (1 -> 4)\n",
        "edge (2 -> 4)\n",
        "edge (3 -> 4)\n",
        "edge (3 -> 5)\n",
        "edge (6 -> 5)\n",
        "edge (7 -> 5)\n",
        "edge (8 -> 5)\n",
        "edge (9 -> 5)\n",
        "edge (3 -> 10)\n",
        "edge (11 -> 10)\n",
        "edge (12 -> 10)\n",
        "edge (13 -> 10)\n",
        "edge (14 -> 10)\n",
        "edge (3 -> 12)\n",
        "edge (10 -> 12)\n",
        "edge (11 -> 12)\n",
        "edge (13 -> 12)\n",
        "edge (14 -> 12)\n",
        "edge (5 -> 6)\n",
        "edge (7 -> 6)\n",
        "edge (8 -> 6)\n",
        "edge (9 -> 6)\n",
        "edge (5 -> 7)\n",
        "edge (6 -> 7)\n",
        "edge (8 -> 7)\n",
        "edge (9 -> 7)\n",
        "edge (5 -> 8)\n",
        "edge (6 -> 8)\n",
        "edge (7 -> 8)\n",
        "edge (9 -> 8)\n",
        "edge (5 -> 9)\n",
        "edge (6 -> 9)\n",
        "edge (7 -> 9)\n",
        "edge (8 -> 9)\n",
        "edge (10 -> 11)\n",
        "edge (12 -> 11)\n",
        "edge (13 -> 11)\n",
        "edge (14 -> 11)\n",
        "edge (10 -> 13)\n",
        "edge (11 -> 13)\n",
        "edge (12 -> 13)\n",
        "edge (14 -> 13)\n",
        "edge (10 -> 14)\n",
        "edge (11 -> 14)\n"
       ]
      }
     ],
     "prompt_number": 67
    },
    {
     "cell_type": "code",
     "collapsed": false,
     "input": [
      "def gen():\n",
      "    for i in range(1,6):\n",
      "        print('get some')\n",
      "        yield i\n",
      "\n",
      "def toIter(list):\n",
      "    for i in list:\n",
      "        yield i\n",
      "        \n",
      "        \n",
      "for i in gen():\n",
      "    print i\n",
      "    \n",
      "y = [i*i for i in range(20)]\n",
      "yplus = (i*i for i in range(20))\n",
      "ylist = list((i*i for i in range(20)))\n",
      "\n",
      "print \"y: \" + str(y)\n",
      "print \"ylist: \" + str(ylist)\n",
      "\n",
      "print yplus\n",
      "for x in yplus: \n",
      "    print x\n",
      "    \n",
      "yit = toIter(y)\n",
      "print(\"yit: \"+str(yit))\n",
      "\n",
      "x = map(lambda y: y*y, y)\n",
      "print x\n",
      "\n",
      "from itertools import chain\n",
      "y = [range(i,i+5) for i in range(10)]\n",
      "print(\"chain: \"+str(list(chain.from_iterable((y)))))"
     ],
     "language": "python",
     "metadata": {},
     "outputs": [
      {
       "output_type": "stream",
       "stream": "stdout",
       "text": [
        "get some\n",
        "1\n",
        "get some\n",
        "2\n",
        "get some\n",
        "3\n",
        "get some\n",
        "4\n",
        "get some\n",
        "5\n",
        "y: [0, 1, 4, 9, 16, 25, 36, 49, 64, 81, 100, 121, 144, 169, 196, 225, 256, 289, 324, 361]\n",
        "ylist: [0, 1, 4, 9, 16, 25, 36, 49, 64, 81, 100, 121, 144, 169, 196, 225, 256, 289, 324, 361]\n",
        "<generator object <genexpr> at 0x7f04977f9eb0>\n",
        "0\n",
        "1\n",
        "4\n",
        "9\n",
        "16\n",
        "25\n",
        "36\n",
        "49\n",
        "64\n",
        "81\n",
        "100\n",
        "121\n",
        "144\n",
        "169\n",
        "196\n",
        "225\n",
        "256\n",
        "289\n",
        "324\n",
        "361\n",
        "yit: <generator object toIter at 0x7f04977f9e60>\n",
        "[0, 1, 16, 81, 256, 625, 1296, 2401, 4096, 6561, 10000, 14641, 20736, 28561, 38416, 50625, 65536, 83521, 104976, 130321]\n",
        "chain: [0, 1, 2, 3, 4, 1, 2, 3, 4, 5, 2, 3, 4, 5, 6, 3, 4, 5, 6, 7, 4, 5, 6, 7, 8, 5, 6, 7, 8, 9, 6, 7, 8, 9, 10, 7, 8, 9, 10, 11, 8, 9, 10, 11, 12, 9, 10, 11, 12, 13]\n"
       ]
      }
     ],
     "prompt_number": 34
    },
    {
     "cell_type": "code",
     "collapsed": false,
     "input": [],
     "language": "python",
     "metadata": {},
     "outputs": []
    }
   ],
   "metadata": {}
  }
 ]
}