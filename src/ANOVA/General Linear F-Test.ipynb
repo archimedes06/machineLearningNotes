{
 "cells": [
  {
   "cell_type": "markdown",
   "metadata": {},
   "source": [
    "## Analysis taken from <a href=\"https://onlinecourses.science.psu.edu/stat501/node/295/\">Stats 501</a>\n"
   ]
  },
  {
   "cell_type": "markdown",
   "metadata": {},
   "source": [
    "One piece of this bothers me, namely that the MSR (<a href=\"https://www.britannica.com/science/mean-square-due-to-regression\">Mean Square Due to Regressions</a>) is independent of Mean Square Error of the full model, and is chi-squared distributed with $(p_F - p_R)$ degrees of freedom.   Since I can't figure out how to derive it, lets test it."
   ]
  },
  {
   "cell_type": "code",
   "execution_count": 38,
   "metadata": {},
   "outputs": [],
   "source": [
    "%matplotlib inline\n",
    "from __future__ import print_function\n",
    "from sklearn import linear_model\n",
    "from sklearn.metrics import mean_squared_error, r2_score\n",
    "import numpy as np\n",
    "import pandas as pd\n",
    "import scipy as sc\n",
    "import random\n",
    "import matplotlib.pyplot as plt\n"
   ]
  },
  {
   "cell_type": "code",
   "execution_count": 41,
   "metadata": {},
   "outputs": [],
   "source": [
    "slopeActual = 10.5\n",
    "interceptActual = 5\n",
    "noiseAmp = 1\n",
    "\n",
    "def generateValues(sampleSize, slope, intercept, noiseAmp):    \n",
    "    output = []\n",
    "    for i in range(sampleSize):\n",
    "        x = random.random()*3\n",
    "        y = slope*x+intercept\n",
    "        output.append((x+random.gauss(0,noiseAmp), y+random.gauss(0,noiseAmp)))\n",
    "    \n",
    "    #zip converts a k long list of n-tuples into a n long list of k tuples\n",
    "    data = map(list, zip(*output))\n",
    "    return (np.array(data[0]),np.array(data[1]))\n"
   ]
  },
  {
   "cell_type": "code",
   "execution_count": 96,
   "metadata": {},
   "outputs": [],
   "source": [
    "(x,y) = generateValues(50, 5,1,0.2)"
   ]
  },
  {
   "cell_type": "code",
   "execution_count": 97,
   "metadata": {},
   "outputs": [
    {
     "data": {
      "image/png": "[encoded data removed]",
      "text/plain": [
       "<matplotlib.figure.Figure at 0x7f2c7d281910>"
      ]
     },
     "metadata": {},
     "output_type": "display_data"
    }
   ],
   "source": [
    "plt.plot(x,y, 'ro')\n",
    "plt.title(\"Sample data\")\n",
    "plt.show()"
   ]
  },
  {
   "cell_type": "markdown",
   "metadata": {},
   "source": [
    "#### Performing the linear regression"
   ]
  },
  {
   "cell_type": "code",
   "execution_count": 98,
   "metadata": {},
   "outputs": [
    {
     "name": "stdout",
     "output_type": "stream",
     "text": [
      "m = 4.94; b = 1.21\n",
      "y_bar = 7.64\n"
     ]
    }
   ],
   "source": [
    "regr = linear_model.LinearRegression()\n",
    "regr.fit(x.reshape(-1,1),y.reshape(-1,1))\n",
    "params = regr.get_params()\n",
    "y_predicted = regr.predict(x.reshape(-1,1))\n",
    "m = regr.coef_[0][0]\n",
    "b = regr.intercept_[0]\n",
    "\n",
    "y_bar = y.mean()\n",
    "print(\"m = {:.2f}; b = {:.2f}\".format(m,b))\n",
    "print(\"y_bar = {:.2f}\".format(y_bar))"
   ]
  },
  {
   "cell_type": "code",
   "execution_count": 99,
   "metadata": {},
   "outputs": [
    {
     "data": {
      "image/png": "[encoded data removed]",
      "text/plain": [
       "<matplotlib.figure.Figure at 0x7f2c7d6832d0>"
      ]
     },
     "metadata": {},
     "output_type": "display_data"
    }
   ],
   "source": [
    "plt.plot(x, y_predicted[:,0], 'ro')\n",
    "plt.plot(x,y,'^')\n",
    "plt.title(\"Sample data\")\n",
    "plt.show()"
   ]
  },
  {
   "cell_type": "markdown",
   "metadata": {},
   "source": [
    "#### F-statistic measures"
   ]
  },
  {
   "cell_type": "code",
   "execution_count": 106,
   "metadata": {},
   "outputs": [
    {
     "name": "stdout",
     "output_type": "stream",
     "text": [
      "SSE_R = 965.72; SSE_F = 43.80; F-Statistic = 1031.26\n"
     ]
    }
   ],
   "source": [
    "SSE_R = ((y-y_bar)**2).sum()\n",
    "SSE_F = ((y-y_predicted[:,0])**2).sum()\n",
    "F_Statistic = (SSE_R - SSE_F)/(SSE_F/49)\n",
    "print(\"SSE_R = {:.2f}; SSE_F = {:.2f}; F-Statistic = {:.2f}\".format(SSE_R, SSE_F, F_Statistic))"
   ]
  },
  {
   "cell_type": "code",
   "execution_count": null,
   "metadata": {},
   "outputs": [],
   "source": []
  }
 ],
 "metadata": {
  "kernelspec": {
   "display_name": "Python 2",
   "language": "python",
   "name": "python2"
  },
  "language_info": {
   "codemirror_mode": {
    "name": "ipython",
    "version": 2
   },
   "file_extension": ".py",
   "mimetype": "text/x-python",
   "name": "python",
   "nbconvert_exporter": "python",
   "pygments_lexer": "ipython2",
   "version": "2.7.13"
  }
 },
 "nbformat": 4,
 "nbformat_minor": 2
}
