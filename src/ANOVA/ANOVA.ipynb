{
 "cells": [
  {
   "cell_type": "markdown",
   "metadata": {},
   "source": [
    "# Analysis of Variations\n",
    "Running through the Penn State <a href=\"https://onlinecourses.science.psu.edu/stat502\">Stats 502</a> course online."
   ]
  },
  {
   "cell_type": "code",
   "execution_count": 1,
   "metadata": {},
   "outputs": [],
   "source": [
    "%matplotlib inline\n",
    "from __future__ import print_function\n",
    "import numpy as np\n",
    "import pandas as pd\n",
    "import scipy as sc"
   ]
  },
  {
   "cell_type": "code",
   "execution_count": 2,
   "metadata": {
    "scrolled": true
   },
   "outputs": [
    {
     "name": "stdout",
     "output_type": "stream",
     "text": [
      "Control    F1    F2    F3\n",
      "   21.0  32.0  22.5  28.0\n",
      "   19.5  30.5  26.0  27.5\n",
      "   22.5  25.0  28.0  31.0\n",
      "   21.5  27.5  27.0  29.5\n",
      "   20.5  28.0  26.5  30.0\n",
      "   21.0  28.6  25.2  29.2\n"
     ]
    },
    {
     "data": {
      "text/html": [
       "<div>\n",
       "<table border=\"1\" class=\"dataframe\">\n",
       "  <thead>\n",
       "    <tr style=\"text-align: right;\">\n",
       "      <th></th>\n",
       "      <th>Control</th>\n",
       "      <th>F1</th>\n",
       "      <th>F2</th>\n",
       "      <th>F3</th>\n",
       "    </tr>\n",
       "  </thead>\n",
       "  <tbody>\n",
       "    <tr>\n",
       "      <th>count</th>\n",
       "      <td>6.000</td>\n",
       "      <td>6.000000</td>\n",
       "      <td>6.000000</td>\n",
       "      <td>6.00000</td>\n",
       "    </tr>\n",
       "    <tr>\n",
       "      <th>mean</th>\n",
       "      <td>21.000</td>\n",
       "      <td>28.600000</td>\n",
       "      <td>25.866667</td>\n",
       "      <td>29.20000</td>\n",
       "    </tr>\n",
       "    <tr>\n",
       "      <th>std</th>\n",
       "      <td>1.000</td>\n",
       "      <td>2.437212</td>\n",
       "      <td>1.899123</td>\n",
       "      <td>1.28841</td>\n",
       "    </tr>\n",
       "    <tr>\n",
       "      <th>min</th>\n",
       "      <td>19.500</td>\n",
       "      <td>25.000000</td>\n",
       "      <td>22.500000</td>\n",
       "      <td>27.50000</td>\n",
       "    </tr>\n",
       "    <tr>\n",
       "      <th>25%</th>\n",
       "      <td>20.625</td>\n",
       "      <td>27.625000</td>\n",
       "      <td>25.400000</td>\n",
       "      <td>28.30000</td>\n",
       "    </tr>\n",
       "    <tr>\n",
       "      <th>50%</th>\n",
       "      <td>21.000</td>\n",
       "      <td>28.300000</td>\n",
       "      <td>26.250000</td>\n",
       "      <td>29.35000</td>\n",
       "    </tr>\n",
       "    <tr>\n",
       "      <th>75%</th>\n",
       "      <td>21.375</td>\n",
       "      <td>30.025000</td>\n",
       "      <td>26.875000</td>\n",
       "      <td>29.87500</td>\n",
       "    </tr>\n",
       "    <tr>\n",
       "      <th>max</th>\n",
       "      <td>22.500</td>\n",
       "      <td>32.000000</td>\n",
       "      <td>28.000000</td>\n",
       "      <td>31.00000</td>\n",
       "    </tr>\n",
       "  </tbody>\n",
       "</table>\n",
       "</div>"
      ],
      "text/plain": [
       "       Control         F1         F2        F3\n",
       "count    6.000   6.000000   6.000000   6.00000\n",
       "mean    21.000  28.600000  25.866667  29.20000\n",
       "std      1.000   2.437212   1.899123   1.28841\n",
       "min     19.500  25.000000  22.500000  27.50000\n",
       "25%     20.625  27.625000  25.400000  28.30000\n",
       "50%     21.000  28.300000  26.250000  29.35000\n",
       "75%     21.375  30.025000  26.875000  29.87500\n",
       "max     22.500  32.000000  28.000000  31.00000"
      ]
     },
     "execution_count": 2,
     "metadata": {},
     "output_type": "execute_result"
    }
   ],
   "source": [
    "data = pd.read_csv(\"data/sampleData.csv\", header=0)\n",
    "print(data.to_string(index=False))  \n",
    "data.describe()"
   ]
  },
  {
   "cell_type": "code",
   "execution_count": 3,
   "metadata": {},
   "outputs": [
    {
     "data": {
      "text/html": [
       "<div>\n",
       "<table border=\"1\" class=\"dataframe\">\n",
       "  <thead>\n",
       "    <tr style=\"text-align: right;\">\n",
       "      <th></th>\n",
       "      <th>Control</th>\n",
       "      <th>F1</th>\n",
       "      <th>F2</th>\n",
       "      <th>F3</th>\n",
       "    </tr>\n",
       "  </thead>\n",
       "  <tbody>\n",
       "    <tr>\n",
       "      <th>mean</th>\n",
       "      <td>21.0</td>\n",
       "      <td>28.6</td>\n",
       "      <td>25.866667</td>\n",
       "      <td>29.20</td>\n",
       "    </tr>\n",
       "    <tr>\n",
       "      <th>50%</th>\n",
       "      <td>21.0</td>\n",
       "      <td>28.3</td>\n",
       "      <td>26.250000</td>\n",
       "      <td>29.35</td>\n",
       "    </tr>\n",
       "  </tbody>\n",
       "</table>\n",
       "</div>"
      ],
      "text/plain": [
       "      Control    F1         F2     F3\n",
       "mean     21.0  28.6  25.866667  29.20\n",
       "50%      21.0  28.3  26.250000  29.35"
      ]
     },
     "execution_count": 3,
     "metadata": {},
     "output_type": "execute_result"
    }
   ],
   "source": [
    "summary = data.describe()\n",
    "summary.loc[['mean', '50%']]"
   ]
  },
  {
   "cell_type": "markdown",
   "metadata": {},
   "source": [
    "\n",
    "#### Start our analysis by considering the total variance of the response variable ${Y_{ij}}$"
   ]
  },
  {
   "cell_type": "code",
   "execution_count": 93,
   "metadata": {},
   "outputs": [
    {
     "name": "stdout",
     "output_type": "stream",
     "text": [
      "total sum of square errors = 312.47\n"
     ]
    }
   ],
   "source": [
    "#np.var actually returns the mean squared error\n",
    "total_mean = np.mean(data.values)\n",
    "total_ss = np.sum((data.values - total_mean)**2)\n",
    "print(\"total sum of square errors = {:.2f}\".format(total_ss))"
   ]
  },
  {
   "cell_type": "markdown",
   "metadata": {},
   "source": [
    "#### Sum of square deviations for each treatment (each column in data).  This is the difference between the treatment means and the total mean.  We expect this to be relatively large if our treatment had any effects."
   ]
  },
  {
   "cell_type": "code",
   "execution_count": 94,
   "metadata": {},
   "outputs": [
    {
     "name": "stdout",
     "output_type": "stream",
     "text": [
      "treatment sum of square errors = 251.44\n"
     ]
    }
   ],
   "source": [
    "#get the mean for each column (treatment)\n",
    "treatment_stats = pd.DataFrame({'means':data.mean().values, 'count':data.count()})\n",
    "\n",
    "#caculate the difference between the treament mean and the total mean\n",
    "treatment_residuals = (treatment_stats['means'].values - total_mean)\n",
    "\n",
    "#the sum of the squares of the treatment deviations, weighted by the number of instances\n",
    "#each treatment\n",
    "treatment_ss = np.sum((treatment_residuals**2) * treatment_stats['count'].values)\n",
    "print(\"treatment sum of square errors = {:.2f}\".format(treatment_ss))\n"
   ]
  },
  {
   "cell_type": "markdown",
   "metadata": {},
   "source": [
    "####  Finally calculate the variability left over, the sum square of all residuals from the treatment means.  This is the difference between the treatment and the treatment mean.  We expect this to be relatively small"
   ]
  },
  {
   "cell_type": "code",
   "execution_count": 95,
   "metadata": {},
   "outputs": [
    {
     "name": "stdout",
     "output_type": "stream",
     "text": [
      "treatment residuals\n",
      "Control:  ['0.00', '-1.50', '1.50', '0.50', '-0.50', '0.00']\n",
      "F1:  ['3.40', '1.90', '-3.60', '-1.10', '-0.60', '0.00']\n",
      "F2:  ['-3.37', '0.13', '2.13', '1.13', '0.63', '-0.67']\n",
      "F3:  ['-1.20', '-1.70', '1.80', '0.30', '0.80', '0.00']\n",
      "\n",
      "error_ss = 61.033\n"
     ]
    }
   ],
   "source": [
    "#will subtract treatment_stats['means'] as a row from each row of data.values\n",
    "treatment_residuals = data.values - treatment_stats['means'].values\n",
    "toString = lambda x: \"{:.2f}\".format(x)\n",
    "\n",
    "print(\"treatment residuals\")\n",
    "for i in range(0,data.shape[1]):\n",
    "    print(str(data.columns[i]) + \":  \"+ str(map(toString, treatment_residuals[:,i])))\n",
    "    \n",
    "error_ss = np.sum(treatment_residuals**2)  \n",
    "print(\"\\nerror_ss = {:.3f}\".format(error_ss))"
   ]
  },
  {
   "cell_type": "markdown",
   "metadata": {},
   "source": [
    "Here we will use the definition of variance\n",
    "\n",
    "$var ~=~ {\\sum{(X_i - \\overline{X})^2} \\over {N-1}} ~=~ {{SS}\\over{df}}$\n"
   ]
  },
  {
   "cell_type": "code",
   "execution_count": 96,
   "metadata": {},
   "outputs": [
    {
     "name": "stdout",
     "output_type": "stream",
     "text": [
      "treatment_MSE = 83.813\n",
      "error_MES = 3.052\n",
      "total_MSE = 13.586\n"
     ]
    }
   ],
   "source": [
    "#there are four means, but they must average to the total mean\n",
    "treatment_df = 3\n",
    "\n",
    "#there are 24 independent values, but each treatment must average to its respective average.  \n",
    "#thus, 24-4 = 20\n",
    "error_df = 20\n",
    "\n",
    "#finally, the total ss, there are 24 values, but they must average to the total avergag, 24-1\n",
    "total_df = 23\n",
    "\n",
    "#mean square errors\n",
    "treatment_MSE = treatment_ss / treatment_df\n",
    "print(\"treatment_MSE = {:.3f}\".format(treatment_MSE))\n",
    "\n",
    "error_MSE = error_ss / error_df\n",
    "print(\"error_MSE = {:.3f}\".format(error_MSE))\n",
    "\n",
    "\n",
    "total_MSE = total_ss / total_df\n",
    "print(\"total_MSE = {:.3f}\".format(total_MSE))\n",
    "\n"
   ]
  },
  {
   "cell_type": "markdown",
   "metadata": {},
   "source": [
    "#### the F-statistic is the treatment MSE over the error MSE.  That is, the variability due to our treatment over the error (or variability within our treatment).  Intuitivively, we want this to be large, because if the variability within our treatments is of the order of the variability between treatments, then  there is a large chance that the variability seen between treatments is due to the general variability."
   ]
  },
  {
   "cell_type": "code",
   "execution_count": 99,
   "metadata": {},
   "outputs": [
    {
     "name": "stdout",
     "output_type": "stream",
     "text": [
      "F-statistic = 27.46\n"
     ]
    }
   ],
   "source": [
    "F = treatment_MSE / error_MSE\n",
    "print(\"F-statistic = {:.2f}\".format(F))"
   ]
  },
  {
   "cell_type": "markdown",
   "metadata": {},
   "source": [
    "Our critical value for rejecting the null hypothesis is: $F_{\\alpha} = F_{(0.05, 3, 20)} = 3.10$.  That is, there is a 95% chance, that four groups, with 24 measurements will have a ratio of MSE_accross_groups/MSE_within_groups less than $F_{\\alpha}$ if there is no difference between the groups.  \n",
    "  \n",
    "Our F-statistic (27.46) is obviously much larger than $F_{\\alpha = 0.05} = 3.10$.  Our p-value is $2.6$x$10^{-7}$"
   ]
  },
  {
   "cell_type": "markdown",
   "metadata": {},
   "source": [
    "### A Review of the F-test"
   ]
  },
  {
   "cell_type": "code",
   "execution_count": null,
   "metadata": {},
   "outputs": [],
   "source": []
  }
 ],
 "metadata": {
  "kernelspec": {
   "display_name": "Python 2",
   "language": "python",
   "name": "python2"
  },
  "language_info": {
   "codemirror_mode": {
    "name": "ipython",
    "version": 2
   },
   "file_extension": ".py",
   "mimetype": "text/x-python",
   "name": "python",
   "nbconvert_exporter": "python",
   "pygments_lexer": "ipython2",
   "version": "2.7.13"
  }
 },
 "nbformat": 4,
 "nbformat_minor": 2
}
