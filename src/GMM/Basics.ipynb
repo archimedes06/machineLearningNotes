{
 "metadata": {
  "name": "",
  "signature": "sha256:f629d349d476c4388ddfe9f1d97c42fb8254f008b5f8f71226122adffbaf8a82"
 },
 "nbformat": 3,
 "nbformat_minor": 0,
 "worksheets": [
  {
   "cells": [
    {
     "cell_type": "markdown",
     "metadata": {},
     "source": [
      "##This notebook requires the default virutal env\n",
      "To create this virtual environment, go to root directory and run the provision script\n",
      "Click <a href=\"http://scikit-learn.org/stable/auto_examples/mixture/plot_gmm_classifier.html#example-mixture-plot-gmm-classifier-py\">here</a> to see source of example."
     ]
    },
    {
     "cell_type": "code",
     "collapsed": false,
     "input": [
      "import sklearn as sk\n",
      "import numpy as np\n",
      "import pandas as pd\n",
      "import matplotlib.pyplot as plt\n",
      "%matplotlib inline\n",
      "import matplotlib as mpl"
     ],
     "language": "python",
     "metadata": {},
     "outputs": [],
     "prompt_number": 4
    },
    {
     "cell_type": "code",
     "collapsed": false,
     "input": [
      "from sklearn import datasets\n",
      "from sklearn.cross_validation import StratifiedKFold\n",
      "from sklearn.externals.six.moves import xrange\n",
      "from sklearn.mixture import GMM"
     ],
     "language": "python",
     "metadata": {},
     "outputs": [],
     "prompt_number": 5
    },
    {
     "cell_type": "code",
     "collapsed": false,
     "input": [
      "#retrieve the dataset\n",
      "iris = datasets.load_iris()"
     ],
     "language": "python",
     "metadata": {},
     "outputs": [],
     "prompt_number": 10
    },
    {
     "cell_type": "code",
     "collapsed": false,
     "input": [
      "skf = StratifiedKFold(iris.target, n_folds=4)\n",
      "for train, test in skf:\n",
      "    print(\"train:\" + str(train) + \"\\ntest:\"+str(test)+\"\\n\")"
     ],
     "language": "python",
     "metadata": {},
     "outputs": [
      {
       "output_type": "stream",
       "stream": "stdout",
       "text": [
        "sklearn.cross_validation.StratifiedKFold(labels=[0 0 0 0 0 0 0 0 0 0 0 0 0 0 0 0 0 0 0 0 0 0 0 0 0 0 0 0 0 0 0 0 0 0 0 0 0\n",
        " 0 0 0 0 0 0 0 0 0 0 0 0 0 1 1 1 1 1 1 1 1 1 1 1 1 1 1 1 1 1 1 1 1 1 1 1 1\n",
        " 1 1 1 1 1 1 1 1 1 1 1 1 1 1 1 1 1 1 1 1 1 1 1 1 1 1 2 2 2 2 2 2 2 2 2 2 2\n",
        " 2 2 2 2 2 2 2 2 2 2 2 2 2 2 2 2 2 2 2 2 2 2 2 2 2 2 2 2 2 2 2 2 2 2 2 2 2\n",
        " 2 2], n_folds=4, shuffle=False, random_state=None)\n",
        "train:[ 13  14  15  16  17  18  19  20  21  22  23  24  25  26  27  28  29  30\n",
        "  31  32  33  34  35  36  37  38  39  40  41  42  43  44  45  46  47  48\n",
        "  49  63  64  65  66  67  68  69  70  71  72  73  74  75  76  77  78  79\n",
        "  80  81  82  83  84  85  86  87  88  89  90  91  92  93  94  95  96  97\n",
        "  98  99 113 114 115 116 117 118 119 120 121 122 123 124 125 126 127 128\n",
        " 129 130 131 132 133 134 135 136 137 138 139 140 141 142 143 144 145 146\n",
        " 147 148 149]\n",
        "test:[  0   1   2   3   4   5   6   7   8   9  10  11  12  50  51  52  53  54\n",
        "  55  56  57  58  59  60  61  62 100 101 102 103 104 105 106 107 108 109\n",
        " 110 111 112]\n",
        "\n",
        "train:[  0   1   2   3   4   5   6   7   8   9  10  11  12  26  27  28  29  30\n",
        "  31  32  33  34  35  36  37  38  39  40  41  42  43  44  45  46  47  48\n",
        "  49  50  51  52  53  54  55  56  57  58  59  60  61  62  76  77  78  79\n",
        "  80  81  82  83  84  85  86  87  88  89  90  91  92  93  94  95  96  97\n",
        "  98  99 100 101 102 103 104 105 106 107 108 109 110 111 112 126 127 128\n",
        " 129 130 131 132 133 134 135 136 137 138 139 140 141 142 143 144 145 146\n",
        " 147 148 149]\n",
        "test:[ 13  14  15  16  17  18  19  20  21  22  23  24  25  63  64  65  66  67\n",
        "  68  69  70  71  72  73  74  75 113 114 115 116 117 118 119 120 121 122\n",
        " 123 124 125]\n",
        "\n",
        "train:[  0   1   2   3   4   5   6   7   8   9  10  11  12  13  14  15  16  17\n",
        "  18  19  20  21  22  23  24  25  38  39  40  41  42  43  44  45  46  47\n",
        "  48  49  50  51  52  53  54  55  56  57  58  59  60  61  62  63  64  65\n",
        "  66  67  68  69  70  71  72  73  74  75  88  89  90  91  92  93  94  95\n",
        "  96  97  98  99 100 101 102 103 104 105 106 107 108 109 110 111 112 113\n",
        " 114 115 116 117 118 119 120 121 122 123 124 125 138 139 140 141 142 143\n",
        " 144 145 146 147 148 149]\n",
        "test:[ 26  27  28  29  30  31  32  33  34  35  36  37  76  77  78  79  80  81\n",
        "  82  83  84  85  86  87 126 127 128 129 130 131 132 133 134 135 136 137]\n",
        "\n",
        "train:[  0   1   2   3   4   5   6   7   8   9  10  11  12  13  14  15  16  17\n",
        "  18  19  20  21  22  23  24  25  26  27  28  29  30  31  32  33  34  35\n",
        "  36  37  50  51  52  53  54  55  56  57  58  59  60  61  62  63  64  65\n",
        "  66  67  68  69  70  71  72  73  74  75  76  77  78  79  80  81  82  83\n",
        "  84  85  86  87 100 101 102 103 104 105 106 107 108 109 110 111 112 113\n",
        " 114 115 116 117 118 119 120 121 122 123 124 125 126 127 128 129 130 131\n",
        " 132 133 134 135 136 137]\n",
        "test:[ 38  39  40  41  42  43  44  45  46  47  48  49  88  89  90  91  92  93\n",
        "  94  95  96  97  98  99 138 139 140 141 142 143 144 145 146 147 148 149]\n",
        "\n"
       ]
      }
     ],
     "prompt_number": 32
    },
    {
     "cell_type": "code",
     "collapsed": false,
     "input": [],
     "language": "python",
     "metadata": {},
     "outputs": []
    }
   ],
   "metadata": {}
  }
 ]
}